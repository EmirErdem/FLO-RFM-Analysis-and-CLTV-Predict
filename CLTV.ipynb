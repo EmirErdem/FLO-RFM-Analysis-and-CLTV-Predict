{
 "cells": [
  {
   "cell_type": "code",
   "execution_count": 186,
   "id": "initial_id",
   "metadata": {
    "collapsed": true,
    "ExecuteTime": {
     "end_time": "2024-02-21T01:58:17.196184500Z",
     "start_time": "2024-02-21T01:58:17.077411200Z"
    }
   },
   "outputs": [],
   "source": [
    "##############################################################\n",
    "# BG-NBD ve Gamma-Gamma ile CLTV Prediction\n",
    "##############################################################\n",
    "\n",
    "###############################################################\n",
    "# İş Problemi (Business Problem)\n",
    "###############################################################\n",
    "# FLO satış ve pazarlama faaliyetleri için roadmap belirlemek istemektedir.\n",
    "# Şirketin orta uzun vadeli plan yapabilmesi için var olan müşterilerin gelecekte şirkete sağlayacakları potansiyel değerin tahmin edilmesi gerekmektedir.\n",
    "\n",
    "\n",
    "###############################################################\n",
    "# Veri Seti Hikayesi\n",
    "###############################################################\n",
    "\n",
    "# Veri seti son alışverişlerini 2020 - 2021 yıllarında OmniChannel(hem online hem offline alışveriş yapan) olarak yapan müşterilerin geçmiş alışveriş davranışlarından\n",
    "# elde edilen bilgilerden oluşmaktadır.\n",
    "\n",
    "# master_id: Eşsiz müşteri numarası\n",
    "# order_channel : Alışveriş yapılan platforma ait hangi kanalın kullanıldığı (Android, ios, Desktop, Mobile, Offline)\n",
    "# last_order_channel : En son alışverişin yapıldığı kanal\n",
    "# first_order_date : Müşterinin yaptığı ilk alışveriş tarihi\n",
    "# last_order_date : Müşterinin yaptığı son alışveriş tarihi\n",
    "# last_order_date_online : Muşterinin online platformda yaptığı son alışveriş tarihi\n",
    "# last_order_date_offline : Muşterinin offline platformda yaptığı son alışveriş tarihi\n",
    "# order_num_total_ever_online : Müşterinin online platformda yaptığı toplam alışveriş sayısı\n",
    "# order_num_total_ever_offline : Müşterinin offline'da yaptığı toplam alışveriş sayısı\n",
    "# customer_value_total_ever_offline : Müşterinin offline alışverişlerinde ödediği toplam ücret\n",
    "# customer_value_total_ever_online : Müşterinin online alışverişlerinde ödediği toplam ücret\n",
    "# interested_in_categories_12 : Müşterinin son 12 ayda alışveriş yaptığı kategorilerin listesi"
   ]
  },
  {
   "cell_type": "code",
   "outputs": [],
   "source": [
    "import pandas as pd\n",
    "import datetime as dt\n",
    "from lifetimes import BetaGeoFitter\n",
    "from lifetimes import GammaGammaFitter\n",
    "from sklearn.preprocessing import MinMaxScaler\n",
    "pd.set_option('display.max_columns', None)\n",
    "pd.set_option('display.max_rows', None)\n",
    "pd.set_option('display.float_format', lambda x: '%.2f' % x)\n",
    "pd.options.mode.chained_assignment = None\n"
   ],
   "metadata": {
    "collapsed": false,
    "ExecuteTime": {
     "end_time": "2024-02-21T01:58:17.220185800Z",
     "start_time": "2024-02-21T01:58:17.200180400Z"
    }
   },
   "id": "a23c81eb17438613",
   "execution_count": 187
  },
  {
   "cell_type": "code",
   "outputs": [],
   "source": [
    "df = pd.read_csv(\"data/flo_data_20K.csv\")"
   ],
   "metadata": {
    "collapsed": false,
    "ExecuteTime": {
     "end_time": "2024-02-21T01:58:17.298181100Z",
     "start_time": "2024-02-21T01:58:17.223181900Z"
    }
   },
   "id": "23803fce97977b5a",
   "execution_count": 188
  },
  {
   "cell_type": "markdown",
   "source": [
    "# Aykırı değerler var mı? yok mu? diye kontrol ettik varsa aykırı değerleri  baskılama yöntemi ile ortadan kaldırdık."
   ],
   "metadata": {
    "collapsed": false
   },
   "id": "26ff1f8af72f83b3"
  },
  {
   "cell_type": "code",
   "outputs": [],
   "source": [
    "def outlier_thresholds(dataframe, variable):\n",
    "    quartile1 = dataframe[variable].quantile(0.01)\n",
    "    quartile3 = dataframe[variable].quantile(0.99)\n",
    "    interquantile_range = quartile3 - quartile1\n",
    "    up_limit = quartile3 + 1.5 * interquantile_range\n",
    "    low_limit = quartile1 - 1.5 * interquantile_range\n",
    "    return low_limit, up_limit\n",
    "\n",
    "def replace_with_thresholds(dataframe, variable):\n",
    "    low_limit, up_limit = outlier_thresholds(dataframe, variable)\n",
    "    dataframe.loc[(dataframe[variable] < low_limit), variable] = round(low_limit,0)\n",
    "    dataframe.loc[(dataframe[variable] > up_limit), variable] = round(up_limit,0)\n",
    "\n",
    "def check_outlier(dataframe, col_name):\n",
    "    low_limit, up_limit = outlier_thresholds(dataframe, col_name)\n",
    "    if dataframe[(dataframe[col_name] > up_limit) | (dataframe[col_name] < low_limit)].any(axis=None):\n",
    "        return True\n",
    "    else:\n",
    "        return False\n"
   ],
   "metadata": {
    "collapsed": false,
    "ExecuteTime": {
     "end_time": "2024-02-21T01:58:17.325181Z",
     "start_time": "2024-02-21T01:58:17.289182300Z"
    }
   },
   "id": "baba2023782d42c5",
   "execution_count": 189
  },
  {
   "cell_type": "code",
   "outputs": [
    {
     "name": "stdout",
     "output_type": "stream",
     "text": [
      "order_num_total_ever_online True\n",
      "order_num_total_ever_offline True\n",
      "customer_value_total_ever_offline True\n",
      "customer_value_total_ever_online True\n"
     ]
    }
   ],
   "source": [
    "outliers_columns=[\"order_num_total_ever_online\", \"order_num_total_ever_offline\", \"customer_value_total_ever_offline\",\n",
    "\"customer_value_total_ever_online\"]\n",
    "for col in outliers_columns:\n",
    "    print(col,check_outlier(df, col))"
   ],
   "metadata": {
    "collapsed": false,
    "ExecuteTime": {
     "end_time": "2024-02-21T01:58:17.375183800Z",
     "start_time": "2024-02-21T01:58:17.304182Z"
    }
   },
   "id": "b0a2d35496fcd1b7",
   "execution_count": 190
  },
  {
   "cell_type": "code",
   "outputs": [],
   "source": [
    "for col in outliers_columns:\n",
    "    replace_with_thresholds(df, col)"
   ],
   "metadata": {
    "collapsed": false,
    "ExecuteTime": {
     "end_time": "2024-02-21T01:58:17.467182300Z",
     "start_time": "2024-02-21T01:58:17.336186Z"
    }
   },
   "id": "720c1895bf1af05a",
   "execution_count": 191
  },
  {
   "cell_type": "markdown",
   "source": [
    "# Her müşterinin toplam alışveriş sayısı ve harcaması için yeni değişkenler oluşturduk."
   ],
   "metadata": {
    "collapsed": false
   },
   "id": "9a30cd0d45c1bd60"
  },
  {
   "cell_type": "code",
   "outputs": [],
   "source": [
    "df[\"total_order\"]=df[\"order_num_total_ever_online\"]+df[\"order_num_total_ever_offline\"]\n",
    "df[\"total_value\"] = df[\"customer_value_total_ever_offline\"] + df[\"customer_value_total_ever_online\"]"
   ],
   "metadata": {
    "collapsed": false,
    "ExecuteTime": {
     "end_time": "2024-02-21T01:58:17.470179900Z",
     "start_time": "2024-02-21T01:58:17.368183200Z"
    }
   },
   "id": "69e30b16ce7c80d9",
   "execution_count": 192
  },
  {
   "cell_type": "markdown",
   "source": [
    "# Tarih olan kolonların veri tiplerini “date” yaptık."
   ],
   "metadata": {
    "collapsed": false
   },
   "id": "a37d68b05b3cfd2c"
  },
  {
   "cell_type": "code",
   "outputs": [
    {
     "data": {
      "text/plain": "Index(['first_order_date', 'last_order_date', 'last_order_date_online',\n       'last_order_date_offline'],\n      dtype='object')"
     },
     "execution_count": 193,
     "metadata": {},
     "output_type": "execute_result"
    }
   ],
   "source": [
    "date_columns = df.columns[df.columns.str.contains(\"date\")]\n",
    "date_columns"
   ],
   "metadata": {
    "collapsed": false,
    "ExecuteTime": {
     "end_time": "2024-02-21T01:58:17.471180900Z",
     "start_time": "2024-02-21T01:58:17.382182300Z"
    }
   },
   "id": "ae3ff7d119fa544c",
   "execution_count": 193
  },
  {
   "cell_type": "code",
   "outputs": [
    {
     "name": "stdout",
     "output_type": "stream",
     "text": [
      "first_order_date = datetime64[ns]\n",
      "last_order_date = datetime64[ns]\n",
      "last_order_date_online = datetime64[ns]\n",
      "last_order_date_offline = datetime64[ns]\n"
     ]
    }
   ],
   "source": [
    "for i in date_columns:\n",
    "    df[i]=pd.to_datetime(df[i])\n",
    "    print(i,\"=\",df[i].dtype)"
   ],
   "metadata": {
    "collapsed": false,
    "ExecuteTime": {
     "end_time": "2024-02-21T01:58:17.566184700Z",
     "start_time": "2024-02-21T01:58:17.408181700Z"
    }
   },
   "id": "416a5d086763e7dc",
   "execution_count": 194
  },
  {
   "cell_type": "markdown",
   "source": [
    "# Analiz tarihini son kayıt edilmiş veriden 2 sonrası olarak seçtik. ( T_weekly değeri için )"
   ],
   "metadata": {
    "collapsed": false
   },
   "id": "a50c8dbc30cdf803"
  },
  {
   "cell_type": "code",
   "outputs": [],
   "source": [
    "df[\"last_order_date\"].max() #2021-05-30\n",
    "analysis_date = dt.datetime(2021,6,1)"
   ],
   "metadata": {
    "collapsed": false,
    "ExecuteTime": {
     "end_time": "2024-02-21T01:58:17.568180400Z",
     "start_time": "2024-02-21T01:58:17.443185Z"
    }
   },
   "id": "c91eef45c7e86691",
   "execution_count": 195
  },
  {
   "cell_type": "markdown",
   "source": [
    "# CLTV Prediction için  cltv_df adında bir dataframe oluşturduk ve  CLTV Prediction için gerekli olan değerleri yeni bir kolon olarak atadık."
   ],
   "metadata": {
    "collapsed": false
   },
   "id": "38fc8cb608c11dcd"
  },
  {
   "cell_type": "code",
   "outputs": [
    {
     "data": {
      "text/plain": "                            customer_id  recency_cltv_weekly  T_weekly  \\\n0  cc294636-19f0-11eb-8d74-000d3a38a36f                17.00     30.57   \n1  f431bd5a-ab7b-11e9-a2fc-000d3a38a36f               209.86    224.86   \n2  69b69676-1a40-11ea-941b-000d3a38a36f                52.29     78.86   \n3  1854e56c-491f-11eb-806e-000d3a38a36f                 1.57     20.86   \n4  d6ea1074-f1f5-11e9-9346-000d3a38a36f                83.14     95.43   \n5  e585280e-aae1-11e9-a2fc-000d3a38a36f               120.86    132.29   \n6  c445e4ee-6242-11ea-9d1a-000d3a38a36f                32.57     64.86   \n7  3f1b4dc8-8a7d-11ea-8ec0-000d3a38a36f                12.71     54.57   \n8  cfbda69e-5b4f-11ea-aca7-000d3a38a36f                58.43     70.71   \n9  1143f032-440d-11ea-8b43-000d3a38a36f                61.71     96.00   \n\n   frequency  monetary_cltv_avg  \n0       5.00             187.87  \n1      21.00              95.88  \n2       5.00             117.06  \n3       2.00              60.98  \n4       2.00             104.99  \n5       3.00              66.95  \n6       4.00              93.98  \n7       2.00              81.81  \n8       5.00             210.94  \n9       2.00              82.98  ",
      "text/html": "<div>\n<style scoped>\n    .dataframe tbody tr th:only-of-type {\n        vertical-align: middle;\n    }\n\n    .dataframe tbody tr th {\n        vertical-align: top;\n    }\n\n    .dataframe thead th {\n        text-align: right;\n    }\n</style>\n<table border=\"1\" class=\"dataframe\">\n  <thead>\n    <tr style=\"text-align: right;\">\n      <th></th>\n      <th>customer_id</th>\n      <th>recency_cltv_weekly</th>\n      <th>T_weekly</th>\n      <th>frequency</th>\n      <th>monetary_cltv_avg</th>\n    </tr>\n  </thead>\n  <tbody>\n    <tr>\n      <th>0</th>\n      <td>cc294636-19f0-11eb-8d74-000d3a38a36f</td>\n      <td>17.00</td>\n      <td>30.57</td>\n      <td>5.00</td>\n      <td>187.87</td>\n    </tr>\n    <tr>\n      <th>1</th>\n      <td>f431bd5a-ab7b-11e9-a2fc-000d3a38a36f</td>\n      <td>209.86</td>\n      <td>224.86</td>\n      <td>21.00</td>\n      <td>95.88</td>\n    </tr>\n    <tr>\n      <th>2</th>\n      <td>69b69676-1a40-11ea-941b-000d3a38a36f</td>\n      <td>52.29</td>\n      <td>78.86</td>\n      <td>5.00</td>\n      <td>117.06</td>\n    </tr>\n    <tr>\n      <th>3</th>\n      <td>1854e56c-491f-11eb-806e-000d3a38a36f</td>\n      <td>1.57</td>\n      <td>20.86</td>\n      <td>2.00</td>\n      <td>60.98</td>\n    </tr>\n    <tr>\n      <th>4</th>\n      <td>d6ea1074-f1f5-11e9-9346-000d3a38a36f</td>\n      <td>83.14</td>\n      <td>95.43</td>\n      <td>2.00</td>\n      <td>104.99</td>\n    </tr>\n    <tr>\n      <th>5</th>\n      <td>e585280e-aae1-11e9-a2fc-000d3a38a36f</td>\n      <td>120.86</td>\n      <td>132.29</td>\n      <td>3.00</td>\n      <td>66.95</td>\n    </tr>\n    <tr>\n      <th>6</th>\n      <td>c445e4ee-6242-11ea-9d1a-000d3a38a36f</td>\n      <td>32.57</td>\n      <td>64.86</td>\n      <td>4.00</td>\n      <td>93.98</td>\n    </tr>\n    <tr>\n      <th>7</th>\n      <td>3f1b4dc8-8a7d-11ea-8ec0-000d3a38a36f</td>\n      <td>12.71</td>\n      <td>54.57</td>\n      <td>2.00</td>\n      <td>81.81</td>\n    </tr>\n    <tr>\n      <th>8</th>\n      <td>cfbda69e-5b4f-11ea-aca7-000d3a38a36f</td>\n      <td>58.43</td>\n      <td>70.71</td>\n      <td>5.00</td>\n      <td>210.94</td>\n    </tr>\n    <tr>\n      <th>9</th>\n      <td>1143f032-440d-11ea-8b43-000d3a38a36f</td>\n      <td>61.71</td>\n      <td>96.00</td>\n      <td>2.00</td>\n      <td>82.98</td>\n    </tr>\n  </tbody>\n</table>\n</div>"
     },
     "execution_count": 196,
     "metadata": {},
     "output_type": "execute_result"
    }
   ],
   "source": [
    "cltv_df=pd.DataFrame()\n",
    "cltv_df[\"customer_id\"]=df[\"master_id\"]\n",
    "cltv_df[\"recency_cltv_weekly\"]=((df[\"last_order_date\"]-df[\"first_order_date\"]).astype('timedelta64[D]'))/7\n",
    "cltv_df[\"T_weekly\"]=((analysis_date-df[\"first_order_date\"]).astype('timedelta64[D]'))/7\n",
    "cltv_df[\"frequency\"]=df[\"total_order\"]\n",
    "cltv_df[\"monetary_cltv_avg\"]=df[\"total_value\"] / df[\"total_order\"]\n",
    "cltv_df.head(10)\n"
   ],
   "metadata": {
    "collapsed": false,
    "ExecuteTime": {
     "end_time": "2024-02-21T01:58:17.602181900Z",
     "start_time": "2024-02-21T01:58:17.460182900Z"
    }
   },
   "id": "17c532a06e25591d",
   "execution_count": 196
  },
  {
   "cell_type": "markdown",
   "source": [
    "# BG/NBD modelini kurduk."
   ],
   "metadata": {
    "collapsed": false
   },
   "id": "9e30d2f29d9b7fa8"
  },
  {
   "cell_type": "code",
   "outputs": [
    {
     "data": {
      "text/plain": "<lifetimes.BetaGeoFitter: fitted with 19945 subjects, a: 0.00, alpha: 76.17, b: 0.00, r: 3.66>"
     },
     "execution_count": 197,
     "metadata": {},
     "output_type": "execute_result"
    }
   ],
   "source": [
    "bgf = BetaGeoFitter(penalizer_coef=0.001)\n",
    "bgf.fit(cltv_df['frequency'],\n",
    "        cltv_df['recency_cltv_weekly'],\n",
    "        cltv_df['T_weekly'])"
   ],
   "metadata": {
    "collapsed": false,
    "ExecuteTime": {
     "end_time": "2024-02-21T01:58:18.018394200Z",
     "start_time": "2024-02-21T01:58:17.490184700Z"
    }
   },
   "id": "cc4f50671c51c908",
   "execution_count": 197
  },
  {
   "cell_type": "markdown",
   "source": [
    "# 6 ay içerisinde müşterilerden beklenen satın almaları tahmin ettik  ve exp_sales_6_month olarak cltv_df dataframe'ine ekledik."
   ],
   "metadata": {
    "collapsed": false
   },
   "id": "64a72ad39a8bbb6a"
  },
  {
   "cell_type": "code",
   "outputs": [],
   "source": [
    "cltv_df[\"exp_sales_6_month\"]=bgf.predict(4*6,\n",
    "                                       cltv_df['frequency'],\n",
    "                                       cltv_df['recency_cltv_weekly'],\n",
    "                                       cltv_df['T_weekly'])"
   ],
   "metadata": {
    "collapsed": false,
    "ExecuteTime": {
     "end_time": "2024-02-21T01:58:18.052395200Z",
     "start_time": "2024-02-21T01:58:18.020393Z"
    }
   },
   "id": "2c4d665ca9fdfd2e",
   "execution_count": 198
  },
  {
   "cell_type": "markdown",
   "source": [
    "# 6.aydaki en çok satın alım gerçekleştirecek 10 kişiyi inceledik."
   ],
   "metadata": {
    "collapsed": false
   },
   "id": "24e3481fd431b5a5"
  },
  {
   "cell_type": "code",
   "outputs": [
    {
     "data": {
      "text/plain": "                                customer_id  recency_cltv_weekly  T_weekly  \\\n7330   a4d534a2-5b1b-11eb-8dbd-000d3a38a36f                62.71     67.29   \n15611  4a7e875e-e6ce-11ea-8f44-000d3a38a36f                39.71     40.00   \n8328   1902bf80-0035-11eb-8341-000d3a38a36f                28.86     33.29   \n19538  55d54d9e-8ac7-11ea-8ec0-000d3a38a36f                52.57     58.71   \n14373  f00ad516-c4f4-11ea-98f7-000d3a38a36f                38.00     46.43   \n10489  7af5cd16-b100-11e9-9757-000d3a38a36f               103.14    111.86   \n4315   d5ef8058-a5c6-11e9-a2fc-000d3a38a36f               133.14    147.14   \n6756   27310582-6362-11ea-a6dc-000d3a38a36f                62.71     64.14   \n6666   53fe00d4-7b7a-11eb-960b-000d3a38a36f                 9.71     13.00   \n10536  e143b6fa-d6f8-11e9-93bc-000d3a38a36f               104.57    113.43   \n\n       frequency  monetary_cltv_avg  exp_sales_6_month  \n7330       52.00             166.22               9.31  \n15611      29.00             165.30               6.75  \n8328       25.00              97.44               6.28  \n19538      31.00             228.53               6.17  \n14373      27.00             141.35               6.00  \n10489      43.00             157.11               5.96  \n4315       49.00             161.85               5.66  \n6756       29.00             168.88               5.59  \n6666       17.00             259.87               5.56  \n10536      40.00             176.20               5.53  ",
      "text/html": "<div>\n<style scoped>\n    .dataframe tbody tr th:only-of-type {\n        vertical-align: middle;\n    }\n\n    .dataframe tbody tr th {\n        vertical-align: top;\n    }\n\n    .dataframe thead th {\n        text-align: right;\n    }\n</style>\n<table border=\"1\" class=\"dataframe\">\n  <thead>\n    <tr style=\"text-align: right;\">\n      <th></th>\n      <th>customer_id</th>\n      <th>recency_cltv_weekly</th>\n      <th>T_weekly</th>\n      <th>frequency</th>\n      <th>monetary_cltv_avg</th>\n      <th>exp_sales_6_month</th>\n    </tr>\n  </thead>\n  <tbody>\n    <tr>\n      <th>7330</th>\n      <td>a4d534a2-5b1b-11eb-8dbd-000d3a38a36f</td>\n      <td>62.71</td>\n      <td>67.29</td>\n      <td>52.00</td>\n      <td>166.22</td>\n      <td>9.31</td>\n    </tr>\n    <tr>\n      <th>15611</th>\n      <td>4a7e875e-e6ce-11ea-8f44-000d3a38a36f</td>\n      <td>39.71</td>\n      <td>40.00</td>\n      <td>29.00</td>\n      <td>165.30</td>\n      <td>6.75</td>\n    </tr>\n    <tr>\n      <th>8328</th>\n      <td>1902bf80-0035-11eb-8341-000d3a38a36f</td>\n      <td>28.86</td>\n      <td>33.29</td>\n      <td>25.00</td>\n      <td>97.44</td>\n      <td>6.28</td>\n    </tr>\n    <tr>\n      <th>19538</th>\n      <td>55d54d9e-8ac7-11ea-8ec0-000d3a38a36f</td>\n      <td>52.57</td>\n      <td>58.71</td>\n      <td>31.00</td>\n      <td>228.53</td>\n      <td>6.17</td>\n    </tr>\n    <tr>\n      <th>14373</th>\n      <td>f00ad516-c4f4-11ea-98f7-000d3a38a36f</td>\n      <td>38.00</td>\n      <td>46.43</td>\n      <td>27.00</td>\n      <td>141.35</td>\n      <td>6.00</td>\n    </tr>\n    <tr>\n      <th>10489</th>\n      <td>7af5cd16-b100-11e9-9757-000d3a38a36f</td>\n      <td>103.14</td>\n      <td>111.86</td>\n      <td>43.00</td>\n      <td>157.11</td>\n      <td>5.96</td>\n    </tr>\n    <tr>\n      <th>4315</th>\n      <td>d5ef8058-a5c6-11e9-a2fc-000d3a38a36f</td>\n      <td>133.14</td>\n      <td>147.14</td>\n      <td>49.00</td>\n      <td>161.85</td>\n      <td>5.66</td>\n    </tr>\n    <tr>\n      <th>6756</th>\n      <td>27310582-6362-11ea-a6dc-000d3a38a36f</td>\n      <td>62.71</td>\n      <td>64.14</td>\n      <td>29.00</td>\n      <td>168.88</td>\n      <td>5.59</td>\n    </tr>\n    <tr>\n      <th>6666</th>\n      <td>53fe00d4-7b7a-11eb-960b-000d3a38a36f</td>\n      <td>9.71</td>\n      <td>13.00</td>\n      <td>17.00</td>\n      <td>259.87</td>\n      <td>5.56</td>\n    </tr>\n    <tr>\n      <th>10536</th>\n      <td>e143b6fa-d6f8-11e9-93bc-000d3a38a36f</td>\n      <td>104.57</td>\n      <td>113.43</td>\n      <td>40.00</td>\n      <td>176.20</td>\n      <td>5.53</td>\n    </tr>\n  </tbody>\n</table>\n</div>"
     },
     "execution_count": 199,
     "metadata": {},
     "output_type": "execute_result"
    }
   ],
   "source": [
    "cltv_df.sort_values(\"exp_sales_6_month\",ascending=False)[:10]\n"
   ],
   "metadata": {
    "collapsed": false,
    "ExecuteTime": {
     "end_time": "2024-02-21T01:58:18.094392700Z",
     "start_time": "2024-02-21T01:58:18.051394500Z"
    }
   },
   "id": "6148e17d1fd3551b",
   "execution_count": 199
  },
  {
   "cell_type": "markdown",
   "source": [
    "# Gamma-Gamma modelini fit ettik. Müşterilerin ortalama bırakacakları değeri tahminleyip exp_average_value olarak cltv_df dataframe'ine ekledik."
   ],
   "metadata": {
    "collapsed": false
   },
   "id": "34cc166fdfe0674e"
  },
  {
   "cell_type": "code",
   "outputs": [],
   "source": [
    "ggf = GammaGammaFitter(penalizer_coef=0.01)\n",
    "ggf.fit(cltv_df['frequency'], cltv_df['monetary_cltv_avg'])\n",
    "cltv_df[\"exp_average_value\"] = ggf.conditional_expected_average_profit(cltv_df['frequency'],cltv_df['monetary_cltv_avg'])"
   ],
   "metadata": {
    "collapsed": false,
    "ExecuteTime": {
     "end_time": "2024-02-21T01:58:18.218393300Z",
     "start_time": "2024-02-21T01:58:18.081393500Z"
    }
   },
   "id": "5a0e87385ff1897f",
   "execution_count": 200
  },
  {
   "cell_type": "markdown",
   "source": [
    "# 6 aylık CLTV hesapladık ve cltv ismiyle dataframe'e ekledik."
   ],
   "metadata": {
    "collapsed": false
   },
   "id": "bb3fbfe5d6b25588"
  },
  {
   "cell_type": "code",
   "outputs": [],
   "source": [
    "cltv_df[\"cltv\"]= ggf.customer_lifetime_value(bgf,\n",
    "                                   cltv_df['frequency'],\n",
    "                                   cltv_df['recency_cltv_weekly'],\n",
    "                                   cltv_df['T_weekly'],\n",
    "                                   cltv_df['monetary_cltv_avg'],\n",
    "                                   time=6,\n",
    "                                   freq=\"W\",\n",
    "                                   discount_rate=0.01)"
   ],
   "metadata": {
    "collapsed": false,
    "ExecuteTime": {
     "end_time": "2024-02-21T01:58:18.343399600Z",
     "start_time": "2024-02-21T01:58:18.221395Z"
    }
   },
   "id": "c24e0cd685b47a62",
   "execution_count": 201
  },
  {
   "cell_type": "markdown",
   "source": [
    "# CLTV değeri en yüksek 10 kişiyi gözlemledik."
   ],
   "metadata": {
    "collapsed": false
   },
   "id": "ef549c5e7309fbf8"
  },
  {
   "cell_type": "code",
   "outputs": [
    {
     "data": {
      "text/plain": "                                customer_id  recency_cltv_weekly  T_weekly  \\\n9055   47a642fe-975b-11eb-8c2a-000d3a38a36f                 2.86      7.86   \n13880  7137a5c0-7aad-11ea-8f20-000d3a38a36f                 6.14     13.14   \n17323  f59053e2-a503-11e9-a2fc-000d3a38a36f                51.71    101.00   \n12438  625f40a2-5bd2-11ea-98b0-000d3a38a36f                74.29     74.57   \n7330   a4d534a2-5b1b-11eb-8dbd-000d3a38a36f                62.71     67.29   \n8868   9ce6e520-89b0-11ea-a6e7-000d3a38a36f                 3.43     34.43   \n6402   851de3b4-8f0c-11eb-8cb8-000d3a38a36f                 8.29      9.43   \n6666   53fe00d4-7b7a-11eb-960b-000d3a38a36f                 9.71     13.00   \n19538  55d54d9e-8ac7-11ea-8ec0-000d3a38a36f                52.57     58.71   \n14858  031b2954-6d28-11eb-99c4-000d3a38a36f                14.86     15.57   \n\n       frequency  monetary_cltv_avg  exp_sales_6_month  exp_average_value  \\\n9055        4.00            1401.80               2.19            1449.06   \n13880      11.00             758.09               3.94             767.36   \n17323       7.00            1106.47               1.44            1127.61   \n12438      16.00             501.87               3.13             506.17   \n7330       52.00             166.22               9.31             166.71   \n8868        8.00             601.23               2.53             611.49   \n6402        2.00             862.69               1.59             923.68   \n6666       17.00             259.87               5.56             262.07   \n19538      31.00             228.53               6.17             229.61   \n14858       3.00             743.59               1.74             778.05   \n\n         cltv  \n9055  3327.78  \n13880 3172.39  \n17323 1708.98  \n12438 1662.61  \n7330  1628.89  \n8868  1623.81  \n6402  1538.86  \n6666  1529.23  \n19538 1485.82  \n14858 1423.00  ",
      "text/html": "<div>\n<style scoped>\n    .dataframe tbody tr th:only-of-type {\n        vertical-align: middle;\n    }\n\n    .dataframe tbody tr th {\n        vertical-align: top;\n    }\n\n    .dataframe thead th {\n        text-align: right;\n    }\n</style>\n<table border=\"1\" class=\"dataframe\">\n  <thead>\n    <tr style=\"text-align: right;\">\n      <th></th>\n      <th>customer_id</th>\n      <th>recency_cltv_weekly</th>\n      <th>T_weekly</th>\n      <th>frequency</th>\n      <th>monetary_cltv_avg</th>\n      <th>exp_sales_6_month</th>\n      <th>exp_average_value</th>\n      <th>cltv</th>\n    </tr>\n  </thead>\n  <tbody>\n    <tr>\n      <th>9055</th>\n      <td>47a642fe-975b-11eb-8c2a-000d3a38a36f</td>\n      <td>2.86</td>\n      <td>7.86</td>\n      <td>4.00</td>\n      <td>1401.80</td>\n      <td>2.19</td>\n      <td>1449.06</td>\n      <td>3327.78</td>\n    </tr>\n    <tr>\n      <th>13880</th>\n      <td>7137a5c0-7aad-11ea-8f20-000d3a38a36f</td>\n      <td>6.14</td>\n      <td>13.14</td>\n      <td>11.00</td>\n      <td>758.09</td>\n      <td>3.94</td>\n      <td>767.36</td>\n      <td>3172.39</td>\n    </tr>\n    <tr>\n      <th>17323</th>\n      <td>f59053e2-a503-11e9-a2fc-000d3a38a36f</td>\n      <td>51.71</td>\n      <td>101.00</td>\n      <td>7.00</td>\n      <td>1106.47</td>\n      <td>1.44</td>\n      <td>1127.61</td>\n      <td>1708.98</td>\n    </tr>\n    <tr>\n      <th>12438</th>\n      <td>625f40a2-5bd2-11ea-98b0-000d3a38a36f</td>\n      <td>74.29</td>\n      <td>74.57</td>\n      <td>16.00</td>\n      <td>501.87</td>\n      <td>3.13</td>\n      <td>506.17</td>\n      <td>1662.61</td>\n    </tr>\n    <tr>\n      <th>7330</th>\n      <td>a4d534a2-5b1b-11eb-8dbd-000d3a38a36f</td>\n      <td>62.71</td>\n      <td>67.29</td>\n      <td>52.00</td>\n      <td>166.22</td>\n      <td>9.31</td>\n      <td>166.71</td>\n      <td>1628.89</td>\n    </tr>\n    <tr>\n      <th>8868</th>\n      <td>9ce6e520-89b0-11ea-a6e7-000d3a38a36f</td>\n      <td>3.43</td>\n      <td>34.43</td>\n      <td>8.00</td>\n      <td>601.23</td>\n      <td>2.53</td>\n      <td>611.49</td>\n      <td>1623.81</td>\n    </tr>\n    <tr>\n      <th>6402</th>\n      <td>851de3b4-8f0c-11eb-8cb8-000d3a38a36f</td>\n      <td>8.29</td>\n      <td>9.43</td>\n      <td>2.00</td>\n      <td>862.69</td>\n      <td>1.59</td>\n      <td>923.68</td>\n      <td>1538.86</td>\n    </tr>\n    <tr>\n      <th>6666</th>\n      <td>53fe00d4-7b7a-11eb-960b-000d3a38a36f</td>\n      <td>9.71</td>\n      <td>13.00</td>\n      <td>17.00</td>\n      <td>259.87</td>\n      <td>5.56</td>\n      <td>262.07</td>\n      <td>1529.23</td>\n    </tr>\n    <tr>\n      <th>19538</th>\n      <td>55d54d9e-8ac7-11ea-8ec0-000d3a38a36f</td>\n      <td>52.57</td>\n      <td>58.71</td>\n      <td>31.00</td>\n      <td>228.53</td>\n      <td>6.17</td>\n      <td>229.61</td>\n      <td>1485.82</td>\n    </tr>\n    <tr>\n      <th>14858</th>\n      <td>031b2954-6d28-11eb-99c4-000d3a38a36f</td>\n      <td>14.86</td>\n      <td>15.57</td>\n      <td>3.00</td>\n      <td>743.59</td>\n      <td>1.74</td>\n      <td>778.05</td>\n      <td>1423.00</td>\n    </tr>\n  </tbody>\n</table>\n</div>"
     },
     "execution_count": 202,
     "metadata": {},
     "output_type": "execute_result"
    }
   ],
   "source": [
    "cltv_df.sort_values(\"cltv\",ascending=False)[:10]"
   ],
   "metadata": {
    "collapsed": false,
    "ExecuteTime": {
     "end_time": "2024-02-21T01:58:18.384538300Z",
     "start_time": "2024-02-21T01:58:18.345400200Z"
    }
   },
   "id": "784e982e3516b4db",
   "execution_count": 202
  },
  {
   "cell_type": "markdown",
   "source": [
    "# 6 aylık standartlaştırılmış CLTV'ye göre tüm müşterilerinizi 4 segmente ayırdık ve grup isimlerini veri setine ekledik."
   ],
   "metadata": {
    "collapsed": false
   },
   "id": "8e6b0ea4b43ba73b"
  },
  {
   "cell_type": "code",
   "outputs": [
    {
     "data": {
      "text/plain": "                            customer_id  recency_cltv_weekly  T_weekly  \\\n0  cc294636-19f0-11eb-8d74-000d3a38a36f                17.00     30.57   \n1  f431bd5a-ab7b-11e9-a2fc-000d3a38a36f               209.86    224.86   \n2  69b69676-1a40-11ea-941b-000d3a38a36f                52.29     78.86   \n3  1854e56c-491f-11eb-806e-000d3a38a36f                 1.57     20.86   \n4  d6ea1074-f1f5-11e9-9346-000d3a38a36f                83.14     95.43   \n\n   frequency  monetary_cltv_avg  exp_sales_6_month  exp_average_value   cltv  \\\n0       5.00             187.87               1.95             193.63 395.73   \n1      21.00              95.88               1.97              96.67 199.43   \n2       5.00             117.06               1.34             120.97 170.22   \n3       2.00              60.98               1.40              67.32  98.95   \n4       2.00             104.99               0.79             114.33  95.01   \n\n  cltv_segment  \n0            A  \n1            B  \n2            B  \n3            D  \n4            D  ",
      "text/html": "<div>\n<style scoped>\n    .dataframe tbody tr th:only-of-type {\n        vertical-align: middle;\n    }\n\n    .dataframe tbody tr th {\n        vertical-align: top;\n    }\n\n    .dataframe thead th {\n        text-align: right;\n    }\n</style>\n<table border=\"1\" class=\"dataframe\">\n  <thead>\n    <tr style=\"text-align: right;\">\n      <th></th>\n      <th>customer_id</th>\n      <th>recency_cltv_weekly</th>\n      <th>T_weekly</th>\n      <th>frequency</th>\n      <th>monetary_cltv_avg</th>\n      <th>exp_sales_6_month</th>\n      <th>exp_average_value</th>\n      <th>cltv</th>\n      <th>cltv_segment</th>\n    </tr>\n  </thead>\n  <tbody>\n    <tr>\n      <th>0</th>\n      <td>cc294636-19f0-11eb-8d74-000d3a38a36f</td>\n      <td>17.00</td>\n      <td>30.57</td>\n      <td>5.00</td>\n      <td>187.87</td>\n      <td>1.95</td>\n      <td>193.63</td>\n      <td>395.73</td>\n      <td>A</td>\n    </tr>\n    <tr>\n      <th>1</th>\n      <td>f431bd5a-ab7b-11e9-a2fc-000d3a38a36f</td>\n      <td>209.86</td>\n      <td>224.86</td>\n      <td>21.00</td>\n      <td>95.88</td>\n      <td>1.97</td>\n      <td>96.67</td>\n      <td>199.43</td>\n      <td>B</td>\n    </tr>\n    <tr>\n      <th>2</th>\n      <td>69b69676-1a40-11ea-941b-000d3a38a36f</td>\n      <td>52.29</td>\n      <td>78.86</td>\n      <td>5.00</td>\n      <td>117.06</td>\n      <td>1.34</td>\n      <td>120.97</td>\n      <td>170.22</td>\n      <td>B</td>\n    </tr>\n    <tr>\n      <th>3</th>\n      <td>1854e56c-491f-11eb-806e-000d3a38a36f</td>\n      <td>1.57</td>\n      <td>20.86</td>\n      <td>2.00</td>\n      <td>60.98</td>\n      <td>1.40</td>\n      <td>67.32</td>\n      <td>98.95</td>\n      <td>D</td>\n    </tr>\n    <tr>\n      <th>4</th>\n      <td>d6ea1074-f1f5-11e9-9346-000d3a38a36f</td>\n      <td>83.14</td>\n      <td>95.43</td>\n      <td>2.00</td>\n      <td>104.99</td>\n      <td>0.79</td>\n      <td>114.33</td>\n      <td>95.01</td>\n      <td>D</td>\n    </tr>\n  </tbody>\n</table>\n</div>"
     },
     "execution_count": 203,
     "metadata": {},
     "output_type": "execute_result"
    }
   ],
   "source": [
    "cltv_df[\"cltv_segment\"] = pd.qcut(cltv_df[\"cltv\"], 4, labels=[\"D\", \"C\", \"B\", \"A\"])\n",
    "cltv_df.head()"
   ],
   "metadata": {
    "collapsed": false,
    "ExecuteTime": {
     "end_time": "2024-02-21T01:58:18.431538300Z",
     "start_time": "2024-02-21T01:58:18.375542Z"
    }
   },
   "id": "426b79f9c36895d9",
   "execution_count": 203
  },
  {
   "cell_type": "markdown",
   "source": [
    "# Segmentlerin cltv değerlerinin bazı istatistik değerlerini inceledik."
   ],
   "metadata": {
    "collapsed": false
   },
   "id": "2e1a1a4e7c986e38"
  },
  {
   "cell_type": "code",
   "outputs": [
    {
     "data": {
      "text/plain": "                cltv                                                  \n               count   mean    std    min    25%    50%    75%     max\ncltv_segment                                                          \nD            4987.00  80.34  21.73  12.11  65.06  83.72  98.52  112.25\nC            4986.00 138.31  15.32 112.25 125.09 138.03 151.44  165.47\nB            4986.00 199.53  21.21 165.47 181.13 198.10 217.10  240.06\nA            4986.00 362.32 158.42 240.09 270.70 312.93 395.16 3327.78",
      "text/html": "<div>\n<style scoped>\n    .dataframe tbody tr th:only-of-type {\n        vertical-align: middle;\n    }\n\n    .dataframe tbody tr th {\n        vertical-align: top;\n    }\n\n    .dataframe thead tr th {\n        text-align: left;\n    }\n\n    .dataframe thead tr:last-of-type th {\n        text-align: right;\n    }\n</style>\n<table border=\"1\" class=\"dataframe\">\n  <thead>\n    <tr>\n      <th></th>\n      <th colspan=\"8\" halign=\"left\">cltv</th>\n    </tr>\n    <tr>\n      <th></th>\n      <th>count</th>\n      <th>mean</th>\n      <th>std</th>\n      <th>min</th>\n      <th>25%</th>\n      <th>50%</th>\n      <th>75%</th>\n      <th>max</th>\n    </tr>\n    <tr>\n      <th>cltv_segment</th>\n      <th></th>\n      <th></th>\n      <th></th>\n      <th></th>\n      <th></th>\n      <th></th>\n      <th></th>\n      <th></th>\n    </tr>\n  </thead>\n  <tbody>\n    <tr>\n      <th>D</th>\n      <td>4987.00</td>\n      <td>80.34</td>\n      <td>21.73</td>\n      <td>12.11</td>\n      <td>65.06</td>\n      <td>83.72</td>\n      <td>98.52</td>\n      <td>112.25</td>\n    </tr>\n    <tr>\n      <th>C</th>\n      <td>4986.00</td>\n      <td>138.31</td>\n      <td>15.32</td>\n      <td>112.25</td>\n      <td>125.09</td>\n      <td>138.03</td>\n      <td>151.44</td>\n      <td>165.47</td>\n    </tr>\n    <tr>\n      <th>B</th>\n      <td>4986.00</td>\n      <td>199.53</td>\n      <td>21.21</td>\n      <td>165.47</td>\n      <td>181.13</td>\n      <td>198.10</td>\n      <td>217.10</td>\n      <td>240.06</td>\n    </tr>\n    <tr>\n      <th>A</th>\n      <td>4986.00</td>\n      <td>362.32</td>\n      <td>158.42</td>\n      <td>240.09</td>\n      <td>270.70</td>\n      <td>312.93</td>\n      <td>395.16</td>\n      <td>3327.78</td>\n    </tr>\n  </tbody>\n</table>\n</div>"
     },
     "execution_count": 204,
     "metadata": {},
     "output_type": "execute_result"
    }
   ],
   "source": [
    "cltv_df.groupby(\"cltv_segment\").agg({\"cltv\":\"describe\"})"
   ],
   "metadata": {
    "collapsed": false,
    "ExecuteTime": {
     "end_time": "2024-02-21T01:58:18.475551Z",
     "start_time": "2024-02-21T01:58:18.389540100Z"
    }
   },
   "id": "14f2aea0b3306e7e",
   "execution_count": 204
  },
  {
   "cell_type": "markdown",
   "source": [
    "# AKSİYON !!! \n",
    "# A segmentindeki müşteriler için yeni çıkan ürünler özel olarak gönderilebilir. Yeni çıkacak ürünlerin galasına davet edilebilir."
   ],
   "metadata": {
    "collapsed": false
   },
   "id": "a3e3f224e4523437"
  }
 ],
 "metadata": {
  "kernelspec": {
   "display_name": "Python 3",
   "language": "python",
   "name": "python3"
  },
  "language_info": {
   "codemirror_mode": {
    "name": "ipython",
    "version": 2
   },
   "file_extension": ".py",
   "mimetype": "text/x-python",
   "name": "python",
   "nbconvert_exporter": "python",
   "pygments_lexer": "ipython2",
   "version": "2.7.6"
  }
 },
 "nbformat": 4,
 "nbformat_minor": 5
}
