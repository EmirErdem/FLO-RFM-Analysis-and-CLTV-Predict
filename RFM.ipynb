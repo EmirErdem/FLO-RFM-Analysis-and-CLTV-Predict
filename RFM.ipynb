{
 "cells": [
  {
   "cell_type": "code",
   "outputs": [],
   "source": [
    "###############################################################\n",
    "# RFM ile Müşteri Segmentasyonu (Customer Segmentation with RFM)\n",
    "###############################################################\n",
    "\n",
    "###############################################################\n",
    "# İş Problemi (Business Problem)\n",
    "###############################################################\n",
    "# FLO müşterilerini segmentlere ayırıp bu segmentlere göre pazarlama stratejileri belirlemek istiyor.\n",
    "# Buna yönelik olarak müşterilerin davranışları tanımlanacak ve bu davranış öbeklenmelerine göre gruplar oluşturulacak..\n",
    "\n",
    "###############################################################\n",
    "# Veri Seti Hikayesi\n",
    "###############################################################\n",
    "\n",
    "# Veri seti son alışverişlerini 2020 - 2021 yıllarında OmniChannel(hem online hem offline alışveriş yapan) olarak yapan müşterilerin geçmiş alışveriş davranışlarından\n",
    "# elde edilen bilgilerden oluşmaktadır.\n",
    "\n",
    "# master_id: Eşsiz müşteri numarası\n",
    "# order_channel : Alışveriş yapılan platforma ait hangi kanalın kullanıldığı (Android, ios, Desktop, Mobile, Offline)\n",
    "# last_order_channel : En son alışverişin yapıldığı kanal\n",
    "# first_order_date : Müşterinin yaptığı ilk alışveriş tarihi\n",
    "# last_order_date : Müşterinin yaptığı son alışveriş tarihi\n",
    "# last_order_date_online : Muşterinin online platformda yaptığı son alışveriş tarihi\n",
    "# last_order_date_offline : Muşterinin offline platformda yaptığı son alışveriş tarihi\n",
    "# order_num_total_ever_online : Müşterinin online platformda yaptığı toplam alışveriş sayısı\n",
    "# order_num_total_ever_offline : Müşterinin offline'da yaptığı toplam alışveriş sayısı\n",
    "# customer_value_total_ever_offline : Müşterinin offline alışverişlerinde ödediği toplam ücret\n",
    "# customer_value_total_ever_online : Müşterinin online alışverişlerinde ödediği toplam ücret\n",
    "# interested_in_categories_12 : Müşterinin son 12 ayda alışveriş yaptığı kategorilerin listesi"
   ],
   "metadata": {
    "collapsed": false,
    "ExecuteTime": {
     "end_time": "2024-02-18T02:05:34.201539400Z",
     "start_time": "2024-02-18T02:05:33.986334Z"
    }
   },
   "id": "38fe6a6ca697c43b",
   "execution_count": 204
  },
  {
   "cell_type": "code",
   "outputs": [],
   "source": [
    "import pandas as pd\n",
    "import datetime as dt"
   ],
   "metadata": {
    "collapsed": true,
    "ExecuteTime": {
     "end_time": "2024-02-18T02:05:34.303553200Z",
     "start_time": "2024-02-18T02:05:34.205668Z"
    }
   },
   "id": "initial_id",
   "execution_count": 205
  },
  {
   "cell_type": "code",
   "outputs": [],
   "source": [
    "df= pd.read_csv(\"data/flo_data_20k.csv\")"
   ],
   "metadata": {
    "collapsed": false,
    "ExecuteTime": {
     "end_time": "2024-02-18T02:05:34.411204500Z",
     "start_time": "2024-02-18T02:05:34.275392200Z"
    }
   },
   "id": "e944eb8eb1879603",
   "execution_count": 206
  },
  {
   "cell_type": "markdown",
   "source": [
    "# Veriye Göz attık."
   ],
   "metadata": {
    "collapsed": false
   },
   "id": "3147b40ddae77ee"
  },
  {
   "cell_type": "code",
   "outputs": [
    {
     "name": "stdout",
     "output_type": "stream",
     "text": [
      "##################### Shape #####################\n",
      "(19945, 12)\n",
      "##################### Types #####################\n",
      "master_id                             object\n",
      "order_channel                         object\n",
      "last_order_channel                    object\n",
      "first_order_date                      object\n",
      "last_order_date                       object\n",
      "last_order_date_online                object\n",
      "last_order_date_offline               object\n",
      "order_num_total_ever_online          float64\n",
      "order_num_total_ever_offline         float64\n",
      "customer_value_total_ever_offline    float64\n",
      "customer_value_total_ever_online     float64\n",
      "interested_in_categories_12           object\n",
      "dtype: object\n",
      "##################### Head #####################\n",
      "                              master_id order_channel last_order_channel  \\\n",
      "0  cc294636-19f0-11eb-8d74-000d3a38a36f   Android App            Offline   \n",
      "1  f431bd5a-ab7b-11e9-a2fc-000d3a38a36f   Android App             Mobile   \n",
      "2  69b69676-1a40-11ea-941b-000d3a38a36f   Android App        Android App   \n",
      "3  1854e56c-491f-11eb-806e-000d3a38a36f   Android App        Android App   \n",
      "4  d6ea1074-f1f5-11e9-9346-000d3a38a36f       Desktop            Desktop   \n",
      "\n",
      "  first_order_date last_order_date last_order_date_online  \\\n",
      "0       2020-10-30      2021-02-26             2021-02-21   \n",
      "1       2017-02-08      2021-02-16             2021-02-16   \n",
      "2       2019-11-27      2020-11-27             2020-11-27   \n",
      "3       2021-01-06      2021-01-17             2021-01-17   \n",
      "4       2019-08-03      2021-03-07             2021-03-07   \n",
      "\n",
      "  last_order_date_offline  order_num_total_ever_online  \\\n",
      "0              2021-02-26                          4.0   \n",
      "1              2020-01-10                         19.0   \n",
      "2              2019-12-01                          3.0   \n",
      "3              2021-01-06                          1.0   \n",
      "4              2019-08-03                          1.0   \n",
      "\n",
      "   order_num_total_ever_offline  customer_value_total_ever_offline  \\\n",
      "0                           1.0                             139.99   \n",
      "1                           2.0                             159.97   \n",
      "2                           2.0                             189.97   \n",
      "3                           1.0                              39.99   \n",
      "4                           1.0                              49.99   \n",
      "\n",
      "   customer_value_total_ever_online       interested_in_categories_12  \n",
      "0                            799.38                           [KADIN]  \n",
      "1                           1853.58  [ERKEK, COCUK, KADIN, AKTIFSPOR]  \n",
      "2                            395.35                    [ERKEK, KADIN]  \n",
      "3                             81.98               [AKTIFCOCUK, COCUK]  \n",
      "4                            159.99                       [AKTIFSPOR]  \n",
      "##################### Tail #####################\n",
      "                                  master_id order_channel last_order_channel  \\\n",
      "19940  727e2b6e-ddd4-11e9-a848-000d3a38a36f   Android App            Offline   \n",
      "19941  25cd53d4-61bf-11ea-8dd8-000d3a38a36f       Desktop            Desktop   \n",
      "19942  8aea4c2a-d6fc-11e9-93bc-000d3a38a36f       Ios App            Ios App   \n",
      "19943  e50bb46c-ff30-11e9-a5e8-000d3a38a36f   Android App        Android App   \n",
      "19944  740998d2-b1f7-11e9-89fa-000d3a38a36f   Android App        Android App   \n",
      "\n",
      "      first_order_date last_order_date last_order_date_online  \\\n",
      "19940       2019-09-21      2020-07-05             2020-06-05   \n",
      "19941       2020-03-01      2020-12-22             2020-12-22   \n",
      "19942       2019-09-11      2021-05-24             2021-05-24   \n",
      "19943       2019-03-27      2021-02-13             2021-02-13   \n",
      "19944       2019-09-03      2020-06-06             2020-06-06   \n",
      "\n",
      "      last_order_date_offline  order_num_total_ever_online  \\\n",
      "19940              2020-07-05                          1.0   \n",
      "19941              2020-03-01                          1.0   \n",
      "19942              2019-09-11                          2.0   \n",
      "19943              2021-01-08                          1.0   \n",
      "19944              2019-09-03                          1.0   \n",
      "\n",
      "       order_num_total_ever_offline  customer_value_total_ever_offline  \\\n",
      "19940                           2.0                             289.98   \n",
      "19941                           1.0                             150.48   \n",
      "19942                           1.0                             139.98   \n",
      "19943                           5.0                             711.79   \n",
      "19944                           1.0                              39.99   \n",
      "\n",
      "       customer_value_total_ever_online interested_in_categories_12  \n",
      "19940                            111.98          [ERKEK, AKTIFSPOR]  \n",
      "19941                            239.99                 [AKTIFSPOR]  \n",
      "19942                            492.96                 [AKTIFSPOR]  \n",
      "19943                            297.98          [ERKEK, AKTIFSPOR]  \n",
      "19944                            221.98          [KADIN, AKTIFSPOR]  \n",
      "##################### Unique #####################\n",
      "master_id                            19945\n",
      "order_channel                            4\n",
      "last_order_channel                       5\n",
      "first_order_date                      2465\n",
      "last_order_date                        366\n",
      "last_order_date_online                1743\n",
      "last_order_date_offline                738\n",
      "order_num_total_ever_online             57\n",
      "order_num_total_ever_offline            32\n",
      "customer_value_total_ever_offline     6097\n",
      "customer_value_total_ever_online     11292\n",
      "interested_in_categories_12             32\n",
      "dtype: int64\n",
      "##################### NA #####################\n",
      "master_id                            0\n",
      "order_channel                        0\n",
      "last_order_channel                   0\n",
      "first_order_date                     0\n",
      "last_order_date                      0\n",
      "last_order_date_online               0\n",
      "last_order_date_offline              0\n",
      "order_num_total_ever_online          0\n",
      "order_num_total_ever_offline         0\n",
      "customer_value_total_ever_offline    0\n",
      "customer_value_total_ever_online     0\n",
      "interested_in_categories_12          0\n",
      "dtype: int64\n",
      "##################### Quantiles #####################\n",
      "                                     count        mean         std    min  \\\n",
      "order_num_total_ever_online        19945.0    3.110855    4.225647   1.00   \n",
      "order_num_total_ever_offline       19945.0    1.913913    2.062880   1.00   \n",
      "customer_value_total_ever_offline  19945.0  253.922597  301.532853  10.00   \n",
      "customer_value_total_ever_online   19945.0  497.321690  832.601886  12.99   \n",
      "\n",
      "                                      0%     5%     50%       95%        99%  \\\n",
      "order_num_total_ever_online         1.00   1.00    2.00    10.000    20.0000   \n",
      "order_num_total_ever_offline        1.00   1.00    1.00     4.000     7.0000   \n",
      "customer_value_total_ever_offline  10.00  39.99  179.98   694.222  1219.9468   \n",
      "customer_value_total_ever_online   12.99  63.99  286.46  1556.726  3143.8104   \n",
      "\n",
      "                                       100%       max  \n",
      "order_num_total_ever_online          200.00    200.00  \n",
      "order_num_total_ever_offline         109.00    109.00  \n",
      "customer_value_total_ever_offline  18119.14  18119.14  \n",
      "customer_value_total_ever_online   45220.13  45220.13  \n"
     ]
    }
   ],
   "source": [
    "def check_df(dataframe, head=5, tail=5):\n",
    "    print(\"##################### Shape #####################\")\n",
    "    print(dataframe.shape)\n",
    "    print(\"##################### Types #####################\")\n",
    "    print(dataframe.dtypes)\n",
    "    print(\"##################### Head #####################\")\n",
    "    print(dataframe.head(head))\n",
    "    print(\"##################### Tail #####################\")\n",
    "    print(dataframe.tail(tail))\n",
    "    print(\"##################### Unique #####################\")\n",
    "    print(dataframe.nunique())\n",
    "    print(\"##################### NA #####################\")\n",
    "    print(dataframe.isnull().sum())\n",
    "    print(\"##################### Quantiles #####################\")\n",
    "    print(dataframe.describe([0, 0.05, 0.50, 0.95, 0.99, 1]).T)\n",
    "\n",
    "check_df(df)\n"
   ],
   "metadata": {
    "collapsed": false,
    "ExecuteTime": {
     "end_time": "2024-02-18T02:05:34.519644Z",
     "start_time": "2024-02-18T02:05:34.391771700Z"
    }
   },
   "id": "c1379f31a0dedcfe",
   "execution_count": 207
  },
  {
   "cell_type": "code",
   "outputs": [
    {
     "data": {
      "text/plain": "master_id                            0\norder_channel                        0\nlast_order_channel                   0\nfirst_order_date                     0\nlast_order_date                      0\nlast_order_date_online               0\nlast_order_date_offline              0\norder_num_total_ever_online          0\norder_num_total_ever_offline         0\ncustomer_value_total_ever_offline    0\ncustomer_value_total_ever_online     0\ninterested_in_categories_12          0\ndtype: int64"
     },
     "execution_count": 208,
     "metadata": {},
     "output_type": "execute_result"
    }
   ],
   "source": [
    "df.isnull().sum()"
   ],
   "metadata": {
    "collapsed": false,
    "ExecuteTime": {
     "end_time": "2024-02-18T02:05:34.618557200Z",
     "start_time": "2024-02-18T02:05:34.493416900Z"
    }
   },
   "id": "1686db545c1b0710",
   "execution_count": 208
  },
  {
   "cell_type": "markdown",
   "source": [
    "# Her müşterinin toplam alışveriş sayısı ve harcaması için yeni değişkenler oluşturduk."
   ],
   "metadata": {
    "collapsed": false
   },
   "id": "db9f456947a18410"
  },
  {
   "cell_type": "code",
   "outputs": [],
   "source": [
    "df[\"total_order\"]=df[\"order_num_total_ever_online\"]+df[\"order_num_total_ever_offline\"]\n",
    "df[\"total_value\"] = df[\"customer_value_total_ever_offline\"] + df[\"customer_value_total_ever_online\"]\n"
   ],
   "metadata": {
    "collapsed": false,
    "ExecuteTime": {
     "end_time": "2024-02-18T02:05:34.618557200Z",
     "start_time": "2024-02-18T02:05:34.541851900Z"
    }
   },
   "id": "7a81b3803ade06b9",
   "execution_count": 209
  },
  {
   "cell_type": "markdown",
   "source": [
    "# Tarih olan kolonların veri tiplerini  \"date\" yaptık."
   ],
   "metadata": {
    "collapsed": false
   },
   "id": "84510f7b55f23303"
  },
  {
   "cell_type": "code",
   "outputs": [
    {
     "data": {
      "text/plain": "Index(['first_order_date', 'last_order_date', 'last_order_date_online',\n       'last_order_date_offline'],\n      dtype='object')"
     },
     "execution_count": 210,
     "metadata": {},
     "output_type": "execute_result"
    }
   ],
   "source": [
    "date_columns = df.columns[df.columns.str.contains(\"date\")]\n",
    "date_columns"
   ],
   "metadata": {
    "collapsed": false,
    "ExecuteTime": {
     "end_time": "2024-02-18T02:05:34.687636400Z",
     "start_time": "2024-02-18T02:05:34.556429500Z"
    }
   },
   "id": "6cd7568cbf1b00a8",
   "execution_count": 210
  },
  {
   "cell_type": "code",
   "outputs": [
    {
     "name": "stdout",
     "output_type": "stream",
     "text": [
      "first_order_date = datetime64[ns]\n",
      "last_order_date = datetime64[ns]\n",
      "last_order_date_online = datetime64[ns]\n",
      "last_order_date_offline = datetime64[ns]\n"
     ]
    }
   ],
   "source": [
    "for i in date_columns:\n",
    "    df[i]=pd.to_datetime(df[i])\n",
    "    print(i,\"=\",df[i].dtype)"
   ],
   "metadata": {
    "collapsed": false,
    "ExecuteTime": {
     "end_time": "2024-02-18T02:05:34.883118800Z",
     "start_time": "2024-02-18T02:05:34.574634300Z"
    }
   },
   "id": "81866030600ebb49",
   "execution_count": 211
  },
  {
   "cell_type": "markdown",
   "source": [
    "# Alışveriş kanallarındaki müşteri sayısının, toplam alınan ürün sayısı ve toplam harcamaların dağılımına baktık."
   ],
   "metadata": {
    "collapsed": false
   },
   "id": "a894d85d0430a86b"
  },
  {
   "cell_type": "code",
   "outputs": [
    {
     "data": {
      "text/plain": "               master_id  total_order  total_value\norder_channel                                     \nAndroid App         9495      52269.0   823.492655\nDesktop             2735      10920.0   588.782984\nIos App             2833      15351.0   891.634285\nMobile              4882      21679.0   620.275125",
      "text/html": "<div>\n<style scoped>\n    .dataframe tbody tr th:only-of-type {\n        vertical-align: middle;\n    }\n\n    .dataframe tbody tr th {\n        vertical-align: top;\n    }\n\n    .dataframe thead th {\n        text-align: right;\n    }\n</style>\n<table border=\"1\" class=\"dataframe\">\n  <thead>\n    <tr style=\"text-align: right;\">\n      <th></th>\n      <th>master_id</th>\n      <th>total_order</th>\n      <th>total_value</th>\n    </tr>\n    <tr>\n      <th>order_channel</th>\n      <th></th>\n      <th></th>\n      <th></th>\n    </tr>\n  </thead>\n  <tbody>\n    <tr>\n      <th>Android App</th>\n      <td>9495</td>\n      <td>52269.0</td>\n      <td>823.492655</td>\n    </tr>\n    <tr>\n      <th>Desktop</th>\n      <td>2735</td>\n      <td>10920.0</td>\n      <td>588.782984</td>\n    </tr>\n    <tr>\n      <th>Ios App</th>\n      <td>2833</td>\n      <td>15351.0</td>\n      <td>891.634285</td>\n    </tr>\n    <tr>\n      <th>Mobile</th>\n      <td>4882</td>\n      <td>21679.0</td>\n      <td>620.275125</td>\n    </tr>\n  </tbody>\n</table>\n</div>"
     },
     "execution_count": 212,
     "metadata": {},
     "output_type": "execute_result"
    }
   ],
   "source": [
    "df.groupby(\"order_channel\").agg({\"master_id\":\"count\",\"total_order\":\"sum\", \"total_value\":\"mean\"})"
   ],
   "metadata": {
    "collapsed": false,
    "ExecuteTime": {
     "end_time": "2024-02-18T02:05:34.917183500Z",
     "start_time": "2024-02-18T02:05:34.651207600Z"
    }
   },
   "id": "7f94e816f4a41556",
   "execution_count": 212
  },
  {
   "cell_type": "markdown",
   "source": [
    "# En çok harcama yapan 10 müşteriye baktık"
   ],
   "metadata": {
    "collapsed": false
   },
   "id": "c05ca891e9c995a6"
  },
  {
   "cell_type": "code",
   "outputs": [
    {
     "data": {
      "text/plain": "                                  master_id order_channel last_order_channel  \\\n11150  5d1c466a-9cfd-11e9-9897-000d3a38a36f   Android App            Desktop   \n4315   d5ef8058-a5c6-11e9-a2fc-000d3a38a36f   Android App        Android App   \n7613   73fd19aa-9e37-11e9-9897-000d3a38a36f       Ios App            Offline   \n13880  7137a5c0-7aad-11ea-8f20-000d3a38a36f       Ios App            Offline   \n9055   47a642fe-975b-11eb-8c2a-000d3a38a36f   Android App            Offline   \n7330   a4d534a2-5b1b-11eb-8dbd-000d3a38a36f       Desktop            Desktop   \n8068   d696c654-2633-11ea-8e1c-000d3a38a36f       Ios App            Ios App   \n163    fef57ffa-aae6-11e9-a2fc-000d3a38a36f        Mobile            Desktop   \n7223   cba59206-9dd1-11e9-9897-000d3a38a36f   Android App        Android App   \n18767  fc0ce7a4-9d87-11e9-9897-000d3a38a36f       Desktop            Desktop   \n\n      first_order_date last_order_date last_order_date_online  \\\n11150       2013-10-11      2021-04-30             2021-04-30   \n4315        2018-08-06      2021-02-23             2021-02-23   \n7613        2014-01-14      2021-05-18             2021-01-30   \n13880       2021-03-01      2021-04-13             2021-03-18   \n9055        2021-04-07      2021-04-27             2021-04-07   \n7330        2020-02-16      2021-04-30             2021-04-30   \n8068        2017-05-10      2021-04-13             2021-04-13   \n163         2016-11-08      2021-05-12             2021-05-12   \n7223        2013-02-21      2021-05-09             2021-05-09   \n18767       2018-11-24      2020-11-11             2020-11-11   \n\n      last_order_date_offline  order_num_total_ever_online  \\\n11150              2020-12-24                        200.0   \n4315               2020-07-06                         67.0   \n7613               2021-05-18                         81.0   \n13880              2021-04-13                         10.0   \n9055               2021-04-27                          1.0   \n7330               2020-12-18                         66.0   \n8068               2019-08-15                         69.0   \n163                2020-07-09                         36.0   \n7223               2020-01-25                        130.0   \n18767              2019-12-06                         18.0   \n\n       order_num_total_ever_offline  customer_value_total_ever_offline  \\\n11150                           2.0                             684.97   \n4315                            1.0                             130.49   \n7613                            1.0                            1263.76   \n13880                           1.0                             538.94   \n9055                            3.0                           18119.14   \n7330                            4.0                             843.68   \n8068                            1.0                              82.48   \n163                             1.0                             180.73   \n7223                            1.0                              49.99   \n18767                           2.0                              64.97   \n\n       customer_value_total_ever_online  \\\n11150                          45220.13   \n4315                           36687.80   \n7613                           32654.34   \n13880                          30688.47   \n9055                            2587.20   \n7330                           17599.89   \n8068                           16836.09   \n163                            12545.37   \n7223                           12232.25   \n18767                          12038.18   \n\n                        interested_in_categories_12  total_order  total_value  \n11150  [AKTIFCOCUK, ERKEK, COCUK, KADIN, AKTIFSPOR]        202.0     45905.10  \n4315          [AKTIFCOCUK, ERKEK, KADIN, AKTIFSPOR]         68.0     36818.29  \n7613               [ERKEK, COCUK, KADIN, AKTIFSPOR]         82.0     33918.10  \n13880                     [ERKEK, KADIN, AKTIFSPOR]         11.0     31227.41  \n9055                                    [AKTIFSPOR]          4.0     20706.34  \n7330                      [ERKEK, KADIN, AKTIFSPOR]         70.0     18443.57  \n8068   [AKTIFCOCUK, ERKEK, COCUK, KADIN, AKTIFSPOR]         70.0     16918.57  \n163                              [ERKEK, AKTIFSPOR]         37.0     12726.10  \n7223          [AKTIFCOCUK, ERKEK, KADIN, AKTIFSPOR]        131.0     12282.24  \n18767                                [ERKEK, KADIN]         20.0     12103.15  ",
      "text/html": "<div>\n<style scoped>\n    .dataframe tbody tr th:only-of-type {\n        vertical-align: middle;\n    }\n\n    .dataframe tbody tr th {\n        vertical-align: top;\n    }\n\n    .dataframe thead th {\n        text-align: right;\n    }\n</style>\n<table border=\"1\" class=\"dataframe\">\n  <thead>\n    <tr style=\"text-align: right;\">\n      <th></th>\n      <th>master_id</th>\n      <th>order_channel</th>\n      <th>last_order_channel</th>\n      <th>first_order_date</th>\n      <th>last_order_date</th>\n      <th>last_order_date_online</th>\n      <th>last_order_date_offline</th>\n      <th>order_num_total_ever_online</th>\n      <th>order_num_total_ever_offline</th>\n      <th>customer_value_total_ever_offline</th>\n      <th>customer_value_total_ever_online</th>\n      <th>interested_in_categories_12</th>\n      <th>total_order</th>\n      <th>total_value</th>\n    </tr>\n  </thead>\n  <tbody>\n    <tr>\n      <th>11150</th>\n      <td>5d1c466a-9cfd-11e9-9897-000d3a38a36f</td>\n      <td>Android App</td>\n      <td>Desktop</td>\n      <td>2013-10-11</td>\n      <td>2021-04-30</td>\n      <td>2021-04-30</td>\n      <td>2020-12-24</td>\n      <td>200.0</td>\n      <td>2.0</td>\n      <td>684.97</td>\n      <td>45220.13</td>\n      <td>[AKTIFCOCUK, ERKEK, COCUK, KADIN, AKTIFSPOR]</td>\n      <td>202.0</td>\n      <td>45905.10</td>\n    </tr>\n    <tr>\n      <th>4315</th>\n      <td>d5ef8058-a5c6-11e9-a2fc-000d3a38a36f</td>\n      <td>Android App</td>\n      <td>Android App</td>\n      <td>2018-08-06</td>\n      <td>2021-02-23</td>\n      <td>2021-02-23</td>\n      <td>2020-07-06</td>\n      <td>67.0</td>\n      <td>1.0</td>\n      <td>130.49</td>\n      <td>36687.80</td>\n      <td>[AKTIFCOCUK, ERKEK, KADIN, AKTIFSPOR]</td>\n      <td>68.0</td>\n      <td>36818.29</td>\n    </tr>\n    <tr>\n      <th>7613</th>\n      <td>73fd19aa-9e37-11e9-9897-000d3a38a36f</td>\n      <td>Ios App</td>\n      <td>Offline</td>\n      <td>2014-01-14</td>\n      <td>2021-05-18</td>\n      <td>2021-01-30</td>\n      <td>2021-05-18</td>\n      <td>81.0</td>\n      <td>1.0</td>\n      <td>1263.76</td>\n      <td>32654.34</td>\n      <td>[ERKEK, COCUK, KADIN, AKTIFSPOR]</td>\n      <td>82.0</td>\n      <td>33918.10</td>\n    </tr>\n    <tr>\n      <th>13880</th>\n      <td>7137a5c0-7aad-11ea-8f20-000d3a38a36f</td>\n      <td>Ios App</td>\n      <td>Offline</td>\n      <td>2021-03-01</td>\n      <td>2021-04-13</td>\n      <td>2021-03-18</td>\n      <td>2021-04-13</td>\n      <td>10.0</td>\n      <td>1.0</td>\n      <td>538.94</td>\n      <td>30688.47</td>\n      <td>[ERKEK, KADIN, AKTIFSPOR]</td>\n      <td>11.0</td>\n      <td>31227.41</td>\n    </tr>\n    <tr>\n      <th>9055</th>\n      <td>47a642fe-975b-11eb-8c2a-000d3a38a36f</td>\n      <td>Android App</td>\n      <td>Offline</td>\n      <td>2021-04-07</td>\n      <td>2021-04-27</td>\n      <td>2021-04-07</td>\n      <td>2021-04-27</td>\n      <td>1.0</td>\n      <td>3.0</td>\n      <td>18119.14</td>\n      <td>2587.20</td>\n      <td>[AKTIFSPOR]</td>\n      <td>4.0</td>\n      <td>20706.34</td>\n    </tr>\n    <tr>\n      <th>7330</th>\n      <td>a4d534a2-5b1b-11eb-8dbd-000d3a38a36f</td>\n      <td>Desktop</td>\n      <td>Desktop</td>\n      <td>2020-02-16</td>\n      <td>2021-04-30</td>\n      <td>2021-04-30</td>\n      <td>2020-12-18</td>\n      <td>66.0</td>\n      <td>4.0</td>\n      <td>843.68</td>\n      <td>17599.89</td>\n      <td>[ERKEK, KADIN, AKTIFSPOR]</td>\n      <td>70.0</td>\n      <td>18443.57</td>\n    </tr>\n    <tr>\n      <th>8068</th>\n      <td>d696c654-2633-11ea-8e1c-000d3a38a36f</td>\n      <td>Ios App</td>\n      <td>Ios App</td>\n      <td>2017-05-10</td>\n      <td>2021-04-13</td>\n      <td>2021-04-13</td>\n      <td>2019-08-15</td>\n      <td>69.0</td>\n      <td>1.0</td>\n      <td>82.48</td>\n      <td>16836.09</td>\n      <td>[AKTIFCOCUK, ERKEK, COCUK, KADIN, AKTIFSPOR]</td>\n      <td>70.0</td>\n      <td>16918.57</td>\n    </tr>\n    <tr>\n      <th>163</th>\n      <td>fef57ffa-aae6-11e9-a2fc-000d3a38a36f</td>\n      <td>Mobile</td>\n      <td>Desktop</td>\n      <td>2016-11-08</td>\n      <td>2021-05-12</td>\n      <td>2021-05-12</td>\n      <td>2020-07-09</td>\n      <td>36.0</td>\n      <td>1.0</td>\n      <td>180.73</td>\n      <td>12545.37</td>\n      <td>[ERKEK, AKTIFSPOR]</td>\n      <td>37.0</td>\n      <td>12726.10</td>\n    </tr>\n    <tr>\n      <th>7223</th>\n      <td>cba59206-9dd1-11e9-9897-000d3a38a36f</td>\n      <td>Android App</td>\n      <td>Android App</td>\n      <td>2013-02-21</td>\n      <td>2021-05-09</td>\n      <td>2021-05-09</td>\n      <td>2020-01-25</td>\n      <td>130.0</td>\n      <td>1.0</td>\n      <td>49.99</td>\n      <td>12232.25</td>\n      <td>[AKTIFCOCUK, ERKEK, KADIN, AKTIFSPOR]</td>\n      <td>131.0</td>\n      <td>12282.24</td>\n    </tr>\n    <tr>\n      <th>18767</th>\n      <td>fc0ce7a4-9d87-11e9-9897-000d3a38a36f</td>\n      <td>Desktop</td>\n      <td>Desktop</td>\n      <td>2018-11-24</td>\n      <td>2020-11-11</td>\n      <td>2020-11-11</td>\n      <td>2019-12-06</td>\n      <td>18.0</td>\n      <td>2.0</td>\n      <td>64.97</td>\n      <td>12038.18</td>\n      <td>[ERKEK, KADIN]</td>\n      <td>20.0</td>\n      <td>12103.15</td>\n    </tr>\n  </tbody>\n</table>\n</div>"
     },
     "execution_count": 213,
     "metadata": {},
     "output_type": "execute_result"
    }
   ],
   "source": [
    "df.sort_values(\"total_value\", ascending=False)[:10]\n"
   ],
   "metadata": {
    "collapsed": false,
    "ExecuteTime": {
     "end_time": "2024-02-18T02:05:35.003266300Z",
     "start_time": "2024-02-18T02:05:34.838691700Z"
    }
   },
   "id": "3f8a236440a8b633",
   "execution_count": 213
  },
  {
   "cell_type": "markdown",
   "source": [
    "# En çok sipariş veren 10 müşteriye baktık."
   ],
   "metadata": {
    "collapsed": false
   },
   "id": "511dae0412b3732c"
  },
  {
   "cell_type": "code",
   "outputs": [
    {
     "data": {
      "text/plain": "                                  master_id order_channel last_order_channel  \\\n11150  5d1c466a-9cfd-11e9-9897-000d3a38a36f   Android App            Desktop   \n7223   cba59206-9dd1-11e9-9897-000d3a38a36f   Android App        Android App   \n8783   a57f4302-b1a8-11e9-89fa-000d3a38a36f   Android App            Offline   \n2619   fdbe8304-a7ab-11e9-a2fc-000d3a38a36f   Android App            Offline   \n6322   329968c6-a0e2-11e9-a2fc-000d3a38a36f       Ios App            Ios App   \n7613   73fd19aa-9e37-11e9-9897-000d3a38a36f       Ios App            Offline   \n9347   44d032ee-a0d4-11e9-a2fc-000d3a38a36f        Mobile             Mobile   \n10954  b27e241a-a901-11e9-a2fc-000d3a38a36f        Mobile             Mobile   \n8068   d696c654-2633-11ea-8e1c-000d3a38a36f       Ios App            Ios App   \n7330   a4d534a2-5b1b-11eb-8dbd-000d3a38a36f       Desktop            Desktop   \n\n      first_order_date last_order_date last_order_date_online  \\\n11150       2013-10-11      2021-04-30             2021-04-30   \n7223        2013-02-21      2021-05-09             2021-05-09   \n8783        2019-08-07      2020-11-04             2020-09-07   \n2619        2018-10-18      2020-06-30             2018-10-18   \n6322        2019-02-14      2021-04-05             2021-04-05   \n7613        2014-01-14      2021-05-18             2021-01-30   \n9347        2019-02-11      2021-02-11             2021-02-11   \n10954       2015-09-12      2021-04-01             2021-04-01   \n8068        2017-05-10      2021-04-13             2021-04-13   \n7330        2020-02-16      2021-04-30             2021-04-30   \n\n      last_order_date_offline  order_num_total_ever_online  \\\n11150              2020-12-24                        200.0   \n7223               2020-01-25                        130.0   \n8783               2020-11-04                          2.0   \n2619               2020-06-30                          1.0   \n6322               2020-02-17                          2.0   \n7613               2021-05-18                         81.0   \n9347               2020-12-24                          3.0   \n10954              2019-10-08                         72.0   \n8068               2019-08-15                         69.0   \n7330               2020-12-18                         66.0   \n\n       order_num_total_ever_offline  customer_value_total_ever_offline  \\\n11150                           2.0                             684.97   \n7223                            1.0                              49.99   \n8783                          109.0                           10239.46   \n2619                           87.0                            8432.25   \n6322                           81.0                            3997.55   \n7613                            1.0                            1263.76   \n9347                           74.0                            4640.77   \n10954                           3.0                             292.93   \n8068                            1.0                              82.48   \n7330                            4.0                             843.68   \n\n       customer_value_total_ever_online  \\\n11150                          45220.13   \n7223                           12232.25   \n8783                             143.98   \n2619                             139.98   \n6322                             242.81   \n7613                           32654.34   \n9347                             543.28   \n10954                           5004.95   \n8068                           16836.09   \n7330                           17599.89   \n\n                        interested_in_categories_12  total_order  total_value  \n11150  [AKTIFCOCUK, ERKEK, COCUK, KADIN, AKTIFSPOR]        202.0     45905.10  \n7223          [AKTIFCOCUK, ERKEK, KADIN, AKTIFSPOR]        131.0     12282.24  \n8783   [AKTIFCOCUK, ERKEK, COCUK, KADIN, AKTIFSPOR]        111.0     10383.44  \n2619                                        [ERKEK]         88.0      8572.23  \n6322                                        [ERKEK]         83.0      4240.36  \n7613               [ERKEK, COCUK, KADIN, AKTIFSPOR]         82.0     33918.10  \n9347                             [KADIN, AKTIFSPOR]         77.0      5184.05  \n10954         [AKTIFCOCUK, ERKEK, KADIN, AKTIFSPOR]         75.0      5297.88  \n8068   [AKTIFCOCUK, ERKEK, COCUK, KADIN, AKTIFSPOR]         70.0     16918.57  \n7330                      [ERKEK, KADIN, AKTIFSPOR]         70.0     18443.57  ",
      "text/html": "<div>\n<style scoped>\n    .dataframe tbody tr th:only-of-type {\n        vertical-align: middle;\n    }\n\n    .dataframe tbody tr th {\n        vertical-align: top;\n    }\n\n    .dataframe thead th {\n        text-align: right;\n    }\n</style>\n<table border=\"1\" class=\"dataframe\">\n  <thead>\n    <tr style=\"text-align: right;\">\n      <th></th>\n      <th>master_id</th>\n      <th>order_channel</th>\n      <th>last_order_channel</th>\n      <th>first_order_date</th>\n      <th>last_order_date</th>\n      <th>last_order_date_online</th>\n      <th>last_order_date_offline</th>\n      <th>order_num_total_ever_online</th>\n      <th>order_num_total_ever_offline</th>\n      <th>customer_value_total_ever_offline</th>\n      <th>customer_value_total_ever_online</th>\n      <th>interested_in_categories_12</th>\n      <th>total_order</th>\n      <th>total_value</th>\n    </tr>\n  </thead>\n  <tbody>\n    <tr>\n      <th>11150</th>\n      <td>5d1c466a-9cfd-11e9-9897-000d3a38a36f</td>\n      <td>Android App</td>\n      <td>Desktop</td>\n      <td>2013-10-11</td>\n      <td>2021-04-30</td>\n      <td>2021-04-30</td>\n      <td>2020-12-24</td>\n      <td>200.0</td>\n      <td>2.0</td>\n      <td>684.97</td>\n      <td>45220.13</td>\n      <td>[AKTIFCOCUK, ERKEK, COCUK, KADIN, AKTIFSPOR]</td>\n      <td>202.0</td>\n      <td>45905.10</td>\n    </tr>\n    <tr>\n      <th>7223</th>\n      <td>cba59206-9dd1-11e9-9897-000d3a38a36f</td>\n      <td>Android App</td>\n      <td>Android App</td>\n      <td>2013-02-21</td>\n      <td>2021-05-09</td>\n      <td>2021-05-09</td>\n      <td>2020-01-25</td>\n      <td>130.0</td>\n      <td>1.0</td>\n      <td>49.99</td>\n      <td>12232.25</td>\n      <td>[AKTIFCOCUK, ERKEK, KADIN, AKTIFSPOR]</td>\n      <td>131.0</td>\n      <td>12282.24</td>\n    </tr>\n    <tr>\n      <th>8783</th>\n      <td>a57f4302-b1a8-11e9-89fa-000d3a38a36f</td>\n      <td>Android App</td>\n      <td>Offline</td>\n      <td>2019-08-07</td>\n      <td>2020-11-04</td>\n      <td>2020-09-07</td>\n      <td>2020-11-04</td>\n      <td>2.0</td>\n      <td>109.0</td>\n      <td>10239.46</td>\n      <td>143.98</td>\n      <td>[AKTIFCOCUK, ERKEK, COCUK, KADIN, AKTIFSPOR]</td>\n      <td>111.0</td>\n      <td>10383.44</td>\n    </tr>\n    <tr>\n      <th>2619</th>\n      <td>fdbe8304-a7ab-11e9-a2fc-000d3a38a36f</td>\n      <td>Android App</td>\n      <td>Offline</td>\n      <td>2018-10-18</td>\n      <td>2020-06-30</td>\n      <td>2018-10-18</td>\n      <td>2020-06-30</td>\n      <td>1.0</td>\n      <td>87.0</td>\n      <td>8432.25</td>\n      <td>139.98</td>\n      <td>[ERKEK]</td>\n      <td>88.0</td>\n      <td>8572.23</td>\n    </tr>\n    <tr>\n      <th>6322</th>\n      <td>329968c6-a0e2-11e9-a2fc-000d3a38a36f</td>\n      <td>Ios App</td>\n      <td>Ios App</td>\n      <td>2019-02-14</td>\n      <td>2021-04-05</td>\n      <td>2021-04-05</td>\n      <td>2020-02-17</td>\n      <td>2.0</td>\n      <td>81.0</td>\n      <td>3997.55</td>\n      <td>242.81</td>\n      <td>[ERKEK]</td>\n      <td>83.0</td>\n      <td>4240.36</td>\n    </tr>\n    <tr>\n      <th>7613</th>\n      <td>73fd19aa-9e37-11e9-9897-000d3a38a36f</td>\n      <td>Ios App</td>\n      <td>Offline</td>\n      <td>2014-01-14</td>\n      <td>2021-05-18</td>\n      <td>2021-01-30</td>\n      <td>2021-05-18</td>\n      <td>81.0</td>\n      <td>1.0</td>\n      <td>1263.76</td>\n      <td>32654.34</td>\n      <td>[ERKEK, COCUK, KADIN, AKTIFSPOR]</td>\n      <td>82.0</td>\n      <td>33918.10</td>\n    </tr>\n    <tr>\n      <th>9347</th>\n      <td>44d032ee-a0d4-11e9-a2fc-000d3a38a36f</td>\n      <td>Mobile</td>\n      <td>Mobile</td>\n      <td>2019-02-11</td>\n      <td>2021-02-11</td>\n      <td>2021-02-11</td>\n      <td>2020-12-24</td>\n      <td>3.0</td>\n      <td>74.0</td>\n      <td>4640.77</td>\n      <td>543.28</td>\n      <td>[KADIN, AKTIFSPOR]</td>\n      <td>77.0</td>\n      <td>5184.05</td>\n    </tr>\n    <tr>\n      <th>10954</th>\n      <td>b27e241a-a901-11e9-a2fc-000d3a38a36f</td>\n      <td>Mobile</td>\n      <td>Mobile</td>\n      <td>2015-09-12</td>\n      <td>2021-04-01</td>\n      <td>2021-04-01</td>\n      <td>2019-10-08</td>\n      <td>72.0</td>\n      <td>3.0</td>\n      <td>292.93</td>\n      <td>5004.95</td>\n      <td>[AKTIFCOCUK, ERKEK, KADIN, AKTIFSPOR]</td>\n      <td>75.0</td>\n      <td>5297.88</td>\n    </tr>\n    <tr>\n      <th>8068</th>\n      <td>d696c654-2633-11ea-8e1c-000d3a38a36f</td>\n      <td>Ios App</td>\n      <td>Ios App</td>\n      <td>2017-05-10</td>\n      <td>2021-04-13</td>\n      <td>2021-04-13</td>\n      <td>2019-08-15</td>\n      <td>69.0</td>\n      <td>1.0</td>\n      <td>82.48</td>\n      <td>16836.09</td>\n      <td>[AKTIFCOCUK, ERKEK, COCUK, KADIN, AKTIFSPOR]</td>\n      <td>70.0</td>\n      <td>16918.57</td>\n    </tr>\n    <tr>\n      <th>7330</th>\n      <td>a4d534a2-5b1b-11eb-8dbd-000d3a38a36f</td>\n      <td>Desktop</td>\n      <td>Desktop</td>\n      <td>2020-02-16</td>\n      <td>2021-04-30</td>\n      <td>2021-04-30</td>\n      <td>2020-12-18</td>\n      <td>66.0</td>\n      <td>4.0</td>\n      <td>843.68</td>\n      <td>17599.89</td>\n      <td>[ERKEK, KADIN, AKTIFSPOR]</td>\n      <td>70.0</td>\n      <td>18443.57</td>\n    </tr>\n  </tbody>\n</table>\n</div>"
     },
     "execution_count": 214,
     "metadata": {},
     "output_type": "execute_result"
    }
   ],
   "source": [
    "df.sort_values(\"total_order\", ascending=False)[:10]"
   ],
   "metadata": {
    "collapsed": false,
    "ExecuteTime": {
     "end_time": "2024-02-18T02:05:35.143375900Z",
     "start_time": "2024-02-18T02:05:34.950583800Z"
    }
   },
   "id": "831e9b35f1f8b97b",
   "execution_count": 214
  },
  {
   "cell_type": "markdown",
   "source": [
    "# RFM analizi için  rfm adında bir dataframe oluşturduk ve  RFM için gerekli olan değerleri yeni bir kolon olarak aradık.\n",
    "# Analiz tarihini son kayıt edilmiş veriden 2 sonrası olarak seçtik. ( recency değeri için )"
   ],
   "metadata": {
    "collapsed": false
   },
   "id": "2f953277d9189e52"
  },
  {
   "cell_type": "code",
   "outputs": [
    {
     "data": {
      "text/plain": "                            customer_id  recency  frequency  monetary\n0  cc294636-19f0-11eb-8d74-000d3a38a36f     95.0        5.0    939.37\n1  f431bd5a-ab7b-11e9-a2fc-000d3a38a36f    105.0       21.0   2013.55\n2  69b69676-1a40-11ea-941b-000d3a38a36f    186.0        5.0    585.32\n3  1854e56c-491f-11eb-806e-000d3a38a36f    135.0        2.0    121.97\n4  d6ea1074-f1f5-11e9-9346-000d3a38a36f     86.0        2.0    209.98",
      "text/html": "<div>\n<style scoped>\n    .dataframe tbody tr th:only-of-type {\n        vertical-align: middle;\n    }\n\n    .dataframe tbody tr th {\n        vertical-align: top;\n    }\n\n    .dataframe thead th {\n        text-align: right;\n    }\n</style>\n<table border=\"1\" class=\"dataframe\">\n  <thead>\n    <tr style=\"text-align: right;\">\n      <th></th>\n      <th>customer_id</th>\n      <th>recency</th>\n      <th>frequency</th>\n      <th>monetary</th>\n    </tr>\n  </thead>\n  <tbody>\n    <tr>\n      <th>0</th>\n      <td>cc294636-19f0-11eb-8d74-000d3a38a36f</td>\n      <td>95.0</td>\n      <td>5.0</td>\n      <td>939.37</td>\n    </tr>\n    <tr>\n      <th>1</th>\n      <td>f431bd5a-ab7b-11e9-a2fc-000d3a38a36f</td>\n      <td>105.0</td>\n      <td>21.0</td>\n      <td>2013.55</td>\n    </tr>\n    <tr>\n      <th>2</th>\n      <td>69b69676-1a40-11ea-941b-000d3a38a36f</td>\n      <td>186.0</td>\n      <td>5.0</td>\n      <td>585.32</td>\n    </tr>\n    <tr>\n      <th>3</th>\n      <td>1854e56c-491f-11eb-806e-000d3a38a36f</td>\n      <td>135.0</td>\n      <td>2.0</td>\n      <td>121.97</td>\n    </tr>\n    <tr>\n      <th>4</th>\n      <td>d6ea1074-f1f5-11e9-9346-000d3a38a36f</td>\n      <td>86.0</td>\n      <td>2.0</td>\n      <td>209.98</td>\n    </tr>\n  </tbody>\n</table>\n</div>"
     },
     "execution_count": 215,
     "metadata": {},
     "output_type": "execute_result"
    }
   ],
   "source": [
    "rfm = pd.DataFrame()\n",
    "\n",
    "df[\"last_order_date\"].max() # 2021-05-30\n",
    "analysis_date = dt.datetime(2021,6,1)\n",
    "\n",
    "rfm[\"customer_id\"] = df[\"master_id\"]\n",
    "rfm[\"recency\"] = (analysis_date - df[\"last_order_date\"]).astype('timedelta64[D]')\n",
    "rfm[\"frequency\"] = df[\"total_order\"]\n",
    "rfm[\"monetary\"] = df[\"total_value\"]\n",
    "rfm.head()"
   ],
   "metadata": {
    "collapsed": false,
    "ExecuteTime": {
     "end_time": "2024-02-18T02:05:35.355790900Z",
     "start_time": "2024-02-18T02:05:35.048237600Z"
    }
   },
   "id": "102e866d92de2bc5",
   "execution_count": 215
  },
  {
   "cell_type": "markdown",
   "source": [
    "# RFM metriklerini 5 parçaya bölerek sınıflandırdık. \n",
    "# f ve m  değerlerinin büyük olması r değerinin küçük olması daha iyi olduğu için ona göre etiketler oluşturduk."
   ],
   "metadata": {
    "collapsed": false
   },
   "id": "81b016cc100d8b0a"
  },
  {
   "cell_type": "code",
   "outputs": [
    {
     "data": {
      "text/plain": "                            customer_id  recency  frequency  monetary  \\\n0  cc294636-19f0-11eb-8d74-000d3a38a36f     95.0        5.0    939.37   \n1  f431bd5a-ab7b-11e9-a2fc-000d3a38a36f    105.0       21.0   2013.55   \n2  69b69676-1a40-11ea-941b-000d3a38a36f    186.0        5.0    585.32   \n3  1854e56c-491f-11eb-806e-000d3a38a36f    135.0        2.0    121.97   \n4  d6ea1074-f1f5-11e9-9346-000d3a38a36f     86.0        2.0    209.98   \n\n  recency_score frequency_score monetary_score  \n0             3               4              4  \n1             3               5              5  \n2             2               4              3  \n3             3               1              1  \n4             3               1              1  ",
      "text/html": "<div>\n<style scoped>\n    .dataframe tbody tr th:only-of-type {\n        vertical-align: middle;\n    }\n\n    .dataframe tbody tr th {\n        vertical-align: top;\n    }\n\n    .dataframe thead th {\n        text-align: right;\n    }\n</style>\n<table border=\"1\" class=\"dataframe\">\n  <thead>\n    <tr style=\"text-align: right;\">\n      <th></th>\n      <th>customer_id</th>\n      <th>recency</th>\n      <th>frequency</th>\n      <th>monetary</th>\n      <th>recency_score</th>\n      <th>frequency_score</th>\n      <th>monetary_score</th>\n    </tr>\n  </thead>\n  <tbody>\n    <tr>\n      <th>0</th>\n      <td>cc294636-19f0-11eb-8d74-000d3a38a36f</td>\n      <td>95.0</td>\n      <td>5.0</td>\n      <td>939.37</td>\n      <td>3</td>\n      <td>4</td>\n      <td>4</td>\n    </tr>\n    <tr>\n      <th>1</th>\n      <td>f431bd5a-ab7b-11e9-a2fc-000d3a38a36f</td>\n      <td>105.0</td>\n      <td>21.0</td>\n      <td>2013.55</td>\n      <td>3</td>\n      <td>5</td>\n      <td>5</td>\n    </tr>\n    <tr>\n      <th>2</th>\n      <td>69b69676-1a40-11ea-941b-000d3a38a36f</td>\n      <td>186.0</td>\n      <td>5.0</td>\n      <td>585.32</td>\n      <td>2</td>\n      <td>4</td>\n      <td>3</td>\n    </tr>\n    <tr>\n      <th>3</th>\n      <td>1854e56c-491f-11eb-806e-000d3a38a36f</td>\n      <td>135.0</td>\n      <td>2.0</td>\n      <td>121.97</td>\n      <td>3</td>\n      <td>1</td>\n      <td>1</td>\n    </tr>\n    <tr>\n      <th>4</th>\n      <td>d6ea1074-f1f5-11e9-9346-000d3a38a36f</td>\n      <td>86.0</td>\n      <td>2.0</td>\n      <td>209.98</td>\n      <td>3</td>\n      <td>1</td>\n      <td>1</td>\n    </tr>\n  </tbody>\n</table>\n</div>"
     },
     "execution_count": 216,
     "metadata": {},
     "output_type": "execute_result"
    }
   ],
   "source": [
    "rfm[\"recency_score\"] = pd.qcut(rfm['recency'], 5, labels=[5,4,3,2,1])\n",
    "rfm[\"frequency_score\"] = pd.qcut(rfm['frequency'].rank(method=\"first\"), 5, labels=[1,2,3,4,5])\n",
    "rfm[\"monetary_score\"] = pd.qcut(rfm['monetary'], 5, labels=[1,2,3,4,5])\n",
    "\n",
    "rfm.head()"
   ],
   "metadata": {
    "collapsed": false,
    "ExecuteTime": {
     "end_time": "2024-02-18T02:05:35.598469300Z",
     "start_time": "2024-02-18T02:05:35.211452300Z"
    }
   },
   "id": "bcdc92f50e775d36",
   "execution_count": 216
  },
  {
   "cell_type": "markdown",
   "source": [
    "# recency_score ve frequency_score’u tek bir değişken olarak ifade ettik."
   ],
   "metadata": {
    "collapsed": false
   },
   "id": "5415d0bec1820b90"
  },
  {
   "cell_type": "code",
   "outputs": [],
   "source": [
    "rfm[\"RF_score\"]=rfm[\"recency_score\"].astype(str)+rfm[\"frequency_score\"].astype(str)\n"
   ],
   "metadata": {
    "collapsed": false,
    "ExecuteTime": {
     "end_time": "2024-02-18T02:05:35.911538500Z",
     "start_time": "2024-02-18T02:05:35.501346400Z"
    }
   },
   "id": "57e45f47e3f56c41",
   "execution_count": 217
  },
  {
   "cell_type": "markdown",
   "source": [
    "# Oluşturulan RF skorların daha açıklanabilir olması için segment tanımlama ve  tanımlanan seg_map yardımı ile RF_SCORE'u segmentlerine çevirdik."
   ],
   "metadata": {
    "collapsed": false
   },
   "id": "46f6f204ad751643"
  },
  {
   "cell_type": "code",
   "outputs": [
    {
     "data": {
      "text/plain": "                            customer_id  recency  frequency  monetary  \\\n0  cc294636-19f0-11eb-8d74-000d3a38a36f     95.0        5.0    939.37   \n1  f431bd5a-ab7b-11e9-a2fc-000d3a38a36f    105.0       21.0   2013.55   \n2  69b69676-1a40-11ea-941b-000d3a38a36f    186.0        5.0    585.32   \n3  1854e56c-491f-11eb-806e-000d3a38a36f    135.0        2.0    121.97   \n4  d6ea1074-f1f5-11e9-9346-000d3a38a36f     86.0        2.0    209.98   \n\n  recency_score frequency_score monetary_score RF_score          segment  \n0             3               4              4       34  loyal_customers  \n1             3               5              5       35  loyal_customers  \n2             2               4              3       24          at_Risk  \n3             3               1              1       31   about_to_sleep  \n4             3               1              1       31   about_to_sleep  ",
      "text/html": "<div>\n<style scoped>\n    .dataframe tbody tr th:only-of-type {\n        vertical-align: middle;\n    }\n\n    .dataframe tbody tr th {\n        vertical-align: top;\n    }\n\n    .dataframe thead th {\n        text-align: right;\n    }\n</style>\n<table border=\"1\" class=\"dataframe\">\n  <thead>\n    <tr style=\"text-align: right;\">\n      <th></th>\n      <th>customer_id</th>\n      <th>recency</th>\n      <th>frequency</th>\n      <th>monetary</th>\n      <th>recency_score</th>\n      <th>frequency_score</th>\n      <th>monetary_score</th>\n      <th>RF_score</th>\n      <th>segment</th>\n    </tr>\n  </thead>\n  <tbody>\n    <tr>\n      <th>0</th>\n      <td>cc294636-19f0-11eb-8d74-000d3a38a36f</td>\n      <td>95.0</td>\n      <td>5.0</td>\n      <td>939.37</td>\n      <td>3</td>\n      <td>4</td>\n      <td>4</td>\n      <td>34</td>\n      <td>loyal_customers</td>\n    </tr>\n    <tr>\n      <th>1</th>\n      <td>f431bd5a-ab7b-11e9-a2fc-000d3a38a36f</td>\n      <td>105.0</td>\n      <td>21.0</td>\n      <td>2013.55</td>\n      <td>3</td>\n      <td>5</td>\n      <td>5</td>\n      <td>35</td>\n      <td>loyal_customers</td>\n    </tr>\n    <tr>\n      <th>2</th>\n      <td>69b69676-1a40-11ea-941b-000d3a38a36f</td>\n      <td>186.0</td>\n      <td>5.0</td>\n      <td>585.32</td>\n      <td>2</td>\n      <td>4</td>\n      <td>3</td>\n      <td>24</td>\n      <td>at_Risk</td>\n    </tr>\n    <tr>\n      <th>3</th>\n      <td>1854e56c-491f-11eb-806e-000d3a38a36f</td>\n      <td>135.0</td>\n      <td>2.0</td>\n      <td>121.97</td>\n      <td>3</td>\n      <td>1</td>\n      <td>1</td>\n      <td>31</td>\n      <td>about_to_sleep</td>\n    </tr>\n    <tr>\n      <th>4</th>\n      <td>d6ea1074-f1f5-11e9-9346-000d3a38a36f</td>\n      <td>86.0</td>\n      <td>2.0</td>\n      <td>209.98</td>\n      <td>3</td>\n      <td>1</td>\n      <td>1</td>\n      <td>31</td>\n      <td>about_to_sleep</td>\n    </tr>\n  </tbody>\n</table>\n</div>"
     },
     "execution_count": 218,
     "metadata": {},
     "output_type": "execute_result"
    }
   ],
   "source": [
    "seg_map = {\n",
    "    r'[1-2][1-2]': 'hibernating',\n",
    "    r'[1-2][3-4]': 'at_Risk',\n",
    "    r'[1-2]5': 'cant_loose',\n",
    "    r'3[1-2]': 'about_to_sleep',\n",
    "    r'33': 'need_attention',\n",
    "    r'[3-4][4-5]': 'loyal_customers',\n",
    "    r'41': 'promising',\n",
    "    r'51': 'new_customers',\n",
    "    r'[4-5][2-3]': 'potential_loyalists',\n",
    "    r'5[4-5]': 'champions'\n",
    "}\n",
    "\n",
    "rfm['segment'] = rfm['RF_score'].replace(seg_map, regex=True)\n",
    "rfm.head()"
   ],
   "metadata": {
    "collapsed": false,
    "ExecuteTime": {
     "end_time": "2024-02-18T02:05:36.331271500Z",
     "start_time": "2024-02-18T02:05:35.848996Z"
    }
   },
   "id": "485a068f689ab1e4",
   "execution_count": 218
  },
  {
   "cell_type": "markdown",
   "source": [
    "# Segmentlerin recency, frequnecy ve monetary ortalamarına göre inceledik."
   ],
   "metadata": {
    "collapsed": false
   },
   "id": "7b33fca1f45bbb14"
  },
  {
   "cell_type": "code",
   "outputs": [
    {
     "data": {
      "text/plain": "                     customer_id     recency  frequency     monetary\nsegment                                                             \ncant_loose                  1200  235.444167  10.698333  1474.468217\nchampions                   1932   17.106625   8.934265  1406.625109\nloyal_customers             3361   82.594763   8.374591  1216.818616\nat_Risk                     3131  241.606835   4.472373   646.610236\nneed_attention               823  113.828676   3.727825   562.142965\npotential_loyalists         2938   37.155888   3.304289   533.184466\nhibernating                 3604  247.949501   2.394007   366.267062\nabout_to_sleep              1629  113.785144   2.401473   359.008963\nnew_customers                680   17.917647   2.000000   339.955544\npromising                    647   58.921175   2.000000   335.672705",
      "text/html": "<div>\n<style scoped>\n    .dataframe tbody tr th:only-of-type {\n        vertical-align: middle;\n    }\n\n    .dataframe tbody tr th {\n        vertical-align: top;\n    }\n\n    .dataframe thead th {\n        text-align: right;\n    }\n</style>\n<table border=\"1\" class=\"dataframe\">\n  <thead>\n    <tr style=\"text-align: right;\">\n      <th></th>\n      <th>customer_id</th>\n      <th>recency</th>\n      <th>frequency</th>\n      <th>monetary</th>\n    </tr>\n    <tr>\n      <th>segment</th>\n      <th></th>\n      <th></th>\n      <th></th>\n      <th></th>\n    </tr>\n  </thead>\n  <tbody>\n    <tr>\n      <th>cant_loose</th>\n      <td>1200</td>\n      <td>235.444167</td>\n      <td>10.698333</td>\n      <td>1474.468217</td>\n    </tr>\n    <tr>\n      <th>champions</th>\n      <td>1932</td>\n      <td>17.106625</td>\n      <td>8.934265</td>\n      <td>1406.625109</td>\n    </tr>\n    <tr>\n      <th>loyal_customers</th>\n      <td>3361</td>\n      <td>82.594763</td>\n      <td>8.374591</td>\n      <td>1216.818616</td>\n    </tr>\n    <tr>\n      <th>at_Risk</th>\n      <td>3131</td>\n      <td>241.606835</td>\n      <td>4.472373</td>\n      <td>646.610236</td>\n    </tr>\n    <tr>\n      <th>need_attention</th>\n      <td>823</td>\n      <td>113.828676</td>\n      <td>3.727825</td>\n      <td>562.142965</td>\n    </tr>\n    <tr>\n      <th>potential_loyalists</th>\n      <td>2938</td>\n      <td>37.155888</td>\n      <td>3.304289</td>\n      <td>533.184466</td>\n    </tr>\n    <tr>\n      <th>hibernating</th>\n      <td>3604</td>\n      <td>247.949501</td>\n      <td>2.394007</td>\n      <td>366.267062</td>\n    </tr>\n    <tr>\n      <th>about_to_sleep</th>\n      <td>1629</td>\n      <td>113.785144</td>\n      <td>2.401473</td>\n      <td>359.008963</td>\n    </tr>\n    <tr>\n      <th>new_customers</th>\n      <td>680</td>\n      <td>17.917647</td>\n      <td>2.000000</td>\n      <td>339.955544</td>\n    </tr>\n    <tr>\n      <th>promising</th>\n      <td>647</td>\n      <td>58.921175</td>\n      <td>2.000000</td>\n      <td>335.672705</td>\n    </tr>\n  </tbody>\n</table>\n</div>"
     },
     "execution_count": 219,
     "metadata": {},
     "output_type": "execute_result"
    }
   ],
   "source": [
    "rfm.groupby('segment').agg({'customer_id':'count','recency':'mean','frequency':'mean','monetary':'mean'}).sort_values(by='monetary', ascending=False)"
   ],
   "metadata": {
    "collapsed": false,
    "ExecuteTime": {
     "end_time": "2024-02-18T02:05:36.395315Z",
     "start_time": "2024-02-18T02:05:36.237060600Z"
    }
   },
   "id": "8698431bfed2ab3a",
   "execution_count": 219
  },
  {
   "cell_type": "markdown",
   "source": [
    "# AKSİYON !!!\n",
    "# FLO bünyesine yeni bir kadın ayakkabı markası dahil ediyor. Dahil ettiği markanın ürün fiyatları genel müşteri tercihlerinin üstünde. Bu nedenle  markanın tanıtımı ve ürün satışları için ilgilenecek profildeki müşterilerle özel olarak iletişime geçeilmek isteniliyor. Bu müşterilerin sadık  ve Kadın kategorisinden alışveriş yapan kişiler olması planlandı. \n",
    "# Müşterilerin id numaralarını csv dosyasına yeni_marka_hedef_müşteri_id.cvs olarak kayıt ettik."
   ],
   "metadata": {
    "collapsed": false
   },
   "id": "e5ac7d696376a275"
  },
  {
   "cell_type": "code",
   "outputs": [],
   "source": [
    "target_customers = rfm[rfm[\"segment\"].isin([\"champions\",\"loyal_customers\"])][\"customer_id\"]\n",
    "target_customers=df[(df[\"master_id\"].isin(target_customers)) & (df[\"interested_in_categories_12\"].str.contains(\"KADIN\"))][\"master_id\"]\n",
    "target_customers.to_csv(\"yeni_marka_hedef_müşteri_id.csv\", index=False)"
   ],
   "metadata": {
    "collapsed": false,
    "ExecuteTime": {
     "end_time": "2024-02-18T02:05:36.609510500Z",
     "start_time": "2024-02-18T02:05:36.338553500Z"
    }
   },
   "id": "ba2040b82ae65f44",
   "execution_count": 220
  }
 ],
 "metadata": {
  "kernelspec": {
   "display_name": "Python 3",
   "language": "python",
   "name": "python3"
  },
  "language_info": {
   "codemirror_mode": {
    "name": "ipython",
    "version": 2
   },
   "file_extension": ".py",
   "mimetype": "text/x-python",
   "name": "python",
   "nbconvert_exporter": "python",
   "pygments_lexer": "ipython2",
   "version": "2.7.6"
  }
 },
 "nbformat": 4,
 "nbformat_minor": 5
}
